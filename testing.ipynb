{
 "cells": [
  {
   "cell_type": "code",
   "execution_count": 19,
   "id": "97b60654",
   "metadata": {},
   "outputs": [
    {
     "name": "stdout",
     "output_type": "stream",
     "text": [
      "TF version: 2.9.1\n",
      "Hub version: 0.12.0\n",
      "WARNING:tensorflow:From C:\\Users\\Ru\\AppData\\Local\\Temp\\ipykernel_13016\\2848218546.py:23: is_gpu_available (from tensorflow.python.framework.test_util) is deprecated and will be removed in a future version.\n",
      "Instructions for updating:\n",
      "Use `tf.config.list_physical_devices('GPU')` instead.\n",
      "GPU is NOT AVAILABLE\n"
     ]
    }
   ],
   "source": [
    "import tensorflow as tf\n",
    "import os\n",
    "import numpy as np\n",
    "import matplotlib.pyplot as plt\n",
    "import numpy as np\n",
    "import os\n",
    "import PIL\n",
    "import tensorflow as tf\n",
    "import pathlib\n",
    "import glob\n",
    "import imghdr\n",
    "import itertools\n",
    "import tensorflow_hub as hub\n",
    "\n",
    "from pathlib import Path\n",
    "from tensorflow import keras\n",
    "from tensorflow.keras import layers\n",
    "from tensorflow.keras.models import Sequential\n",
    "from __future__ import absolute_import, division, print_function, unicode_literals\n",
    "\n",
    "print(\"TF version:\", tf.__version__)\n",
    "print(\"Hub version:\", hub.__version__)\n",
    "print(\"GPU is\", \"available\" if tf.test.is_gpu_available() else \"NOT AVAILABLE\")"
   ]
  },
  {
   "cell_type": "code",
   "execution_count": 3,
   "id": "4fd2d81e",
   "metadata": {},
   "outputs": [
    {
     "data": {
      "text/plain": [
       "'2.9.1'"
      ]
     },
     "execution_count": 3,
     "metadata": {},
     "output_type": "execute_result"
    }
   ],
   "source": [
    "tf.__version__"
   ]
  },
  {
   "cell_type": "code",
   "execution_count": 6,
   "id": "7c58aaae",
   "metadata": {},
   "outputs": [],
   "source": [
    "data_dir = pathlib.Path(\"C:/Users/Ru/Desktop/Aruviyn/Year 3 Sem 2/FYP_System/sneaker_dataset/images/train2\")"
   ]
  },
  {
   "cell_type": "code",
   "execution_count": 7,
   "id": "1b8ae5b0",
   "metadata": {},
   "outputs": [
    {
     "name": "stdout",
     "output_type": "stream",
     "text": [
      "Found 27847 images belonging to 574 classes.\n",
      "Found 6680 images belonging to 574 classes.\n"
     ]
    }
   ],
   "source": [
    "IMAGE_SIZE = 224\n",
    "BATCH_SIZE = 64\n",
    "\n",
    "datagen = tf.keras.preprocessing.image.ImageDataGenerator(\n",
    "    rescale=1./255, \n",
    "    validation_split=0.2)\n",
    "\n",
    "train_generator = datagen.flow_from_directory(\n",
    "    data_dir,\n",
    "    target_size=(IMAGE_SIZE, IMAGE_SIZE),\n",
    "    batch_size=BATCH_SIZE, \n",
    "    subset='training')\n",
    "\n",
    "val_generator = datagen.flow_from_directory(\n",
    "    data_dir,\n",
    "    target_size=(IMAGE_SIZE, IMAGE_SIZE),\n",
    "    batch_size=BATCH_SIZE, \n",
    "    subset='validation')"
   ]
  },
  {
   "cell_type": "code",
   "execution_count": 8,
   "id": "a6a2f4ed",
   "metadata": {},
   "outputs": [
    {
     "data": {
      "text/plain": [
       "((64, 224, 224, 3), (64, 574))"
      ]
     },
     "execution_count": 8,
     "metadata": {},
     "output_type": "execute_result"
    }
   ],
   "source": [
    "for image_batch, label_batch in train_generator:\n",
    "  break\n",
    "image_batch.shape, label_batch.shape"
   ]
  },
  {
   "cell_type": "code",
   "execution_count": 9,
   "id": "14b06a9c",
   "metadata": {},
   "outputs": [
    {
     "name": "stdout",
     "output_type": "stream",
     "text": [
      "{'Air Force 1 Flyknit 2 White Pure Platinum': 0, 'Air Force 1 Flyleather Steve Harrington Earth Day (2019)': 1, 'Air Force 1 Foamposite Cup University Red': 2, 'Air Force 1 High Emotionally Unavailable': 3, 'Air Force 1 High Flax (2018)': 4, 'Air Force 1 LX Vandalised White (W)': 5, 'Air Force 1 Low 3x1 Denim Raw Indigo': 6, 'Air Force 1 Low A Cold Wall Black': 7, 'Air Force 1 Low Carhartt WIP Ale Brown': 8, 'Air Force 1 Low De Lo Mio': 9, 'Air Force 1 Low Devin Booker': 10, 'Air Force 1 Low Equality': 11, 'Air Force 1 Low Noise Cancelling Pack Odell Beckham Jr': 12, 'Air Force 1 Low Off-White Black White': 13, 'Air Force 1 Low Off-White MCA University Blue': 14, 'Air Force 1 Low Off-White Volt': 15, 'Air Force 1 Low Retro Ivory Snake': 16, 'Air Force 1 Low Roc-A-Fella (AF100)': 17, 'Air Force 1 Low Supreme x Comme des Garcons (2018)': 18, 'Air Force 1 Low Travis Scott (AF100)': 19, 'Air Force 1 Low Travis Scott Sail': 20, 'Air Force 1 Low Utility Black White': 21, 'Air Force 1 Low VLONE (2017)': 22, \"Air Force 1 Low White '07\": 23, 'Air Force 1 Low White 2014 (GS)': 24, 'Air Force 1 Low White Deep Royal': 25, 'Air Force 1 Low White Gym Red': 26, 'Air Force 1 Mid Supreme NBA White': 27, 'Air Force 1 Type': 28, 'Air Force 1 Type Black': 29, 'Air Jordan 1 Mid Yellow Toe Black': 30, 'Air Max 1 112 Pack': 31, 'Air Max 1 AMS Parra Amsterdam': 32, 'Air Max 1 Animal Pack': 33, 'Air Max 1 Anniversary Obsidian': 34, 'Air Max 1 Anniversary Red (2017)': 35, 'Air Max 1 Anniversary Royal (2017)': 36, 'Air Max 1 Armory Navy': 37, 'Air Max 1 Atmos Animal Pack 2.0 (2018 All Black Box)': 38, 'Air Max 1 Atmos Elephant (2017)': 39, 'Air Max 1 Have a Nike Day': 40, 'Air Max 1 Inside Out Club Gold Black': 41, 'Air Max 1 Inside Out Phantom Black': 42, 'Air Max 1 Just Do It Orange (W)': 43, 'Air Max 1 Just Do It White (W)': 44, 'Air Max 1 Kid Robot (2005)': 45, 'Air Max 1 Master': 46, 'Air Max 1 NL SP Clot __Kiss of Death__ (2006)_': 47, 'Air Max 1 Parra (2018)': 48, 'Air Max 1 Parra Patta __Cherrywood___': 49, 'Air Max 1 Patta 5th Anniv Green': 50, 'Air Max 1 Pro Purple Fade': 51, 'Air Max 1 Puerto Rico (2019)': 52, 'Air Max 1 Susan Missing Link': 53, 'Air Max 1 Swipa': 54, 'Air Max 1 Tinker Schematic': 55, 'Air Max 1 Tinker Schematic Black': 56, 'Air Max 1 Tinker Sketch to Shelf': 57, 'Air Max 1 Tokyo Maze': 58, 'Air Max 1 White Black Volt Rush Pink': 59, 'Air Max 1 White Photo Blue Black': 60, 'Air Max 1 White Pure Platinum': 61, 'Air Max 1 Windbreaker': 62, 'Air Max 1_97 Sean Wotherspoon': 63, 'Air Max 2 Light Atmos': 64, 'Air Max 270 Black White': 65, 'Air Max 270 React Bauhaus': 66, 'Air Max 270 React Hyper Jade': 67, 'Air Max 270 Throwback Future': 68, 'Air Max 270 Triple Black': 69, 'Air Max 270 White Black': 70, 'Air Max 720 Be True (2019)': 71, 'Air Max 720 Black Mesh': 72, 'Air Max 720 Black Neon Streaks': 73, 'Air Max 720 OBJ Odell Beckham Jr Desert Ore': 74, 'Air Max 720 OBJ Odell Beckham Jr Young King of The Drip': 75, 'Air Max 720 Saturn White Black Red': 76, 'Air Max 720 Sunrise': 77, 'Air Max 90': 78, 'Air Max 90 Be True (2019)': 79, 'Air Max 90 Green Python': 80, 'Air Max 90 Mars Landing': 81, 'Air Max 90 OFF-WHITE': 82, 'Air Max 90 OFF-WHITE Black': 83, 'Air Max 90 OFF-WHITE Desert Ore': 84, 'Air Max 90 OG Infrared (2015)': 85, 'Air Max 90 Patta __Homegrown Grass___': 86, 'Air Max 90 Python': 87, 'Air Max 90 Triple Black (2018)': 88, 'Air Max 90 Triple Red': 89, 'Air Max 90 Triple White': 90, 'Air Max 90 Viotech': 91, 'Air Max 95 Atmos Animal Pack 2.0 (2018 All Black Box)': 92, 'Air Max 95 ERDL Party Black': 93, 'Air Max 95 ERDL Party White': 94, 'Air Max 95 OG Neutral Olive Total Orange': 95, 'Air Max 95 Stash': 96, 'Air Max 97 Black White': 97, 'Air Max 97 Bright Citron': 98, 'Air Max 97 Country Camo (France)': 99, 'Air Max 97 Country Camo (Germany)': 100, 'Air Max 97 Country Camo (Italy)': 101, 'Air Max 97 Country Camo (UK)': 102, 'Air Max 97 Country Camo (USA)': 103, 'Air Max 97 Cristiano Ronaldo Portugal Patchwork': 104, 'Air Max 97 Game Royal Metallic Silver University Red': 105, 'Air Max 97 Have a Nike Day': 106, 'Air Max 97 Metallic Gold': 107, 'Air Max 97 Moon Particle Bright Crimson': 108, 'Air Max 97 Neon Seoul': 109, 'Air Max 97 Off-White': 110, 'Air Max 97 Pale Pink (W)': 111, 'Air Max 97 Shanghai Kaleidoscope': 112, 'Air Max 97 Shipping Box Ale Brown': 113, 'Air Max 97 Silver Black': 114, 'Air Max 97 Silver Bullet (2016': 115, 'Air Max 97 Triple Black': 116, 'Air Max 97 Triple White Wolf Grey': 117, 'Air Max 97 UNDFTD Black': 118, 'Air Max 97 Ultra 17 Skepta': 119, 'Air Max 97 White Black Persian Violet (GS)': 120, 'Air Max 97 White Pure Platinum (W)': 121, 'Air Max 97 White Reflect Silver': 122, 'Air Max 98 La Mezcla': 123, 'Air Max 98 Supreme Black': 124, 'Air Yeezy 1 Blink': 125, 'Air Yeezy 1 Zen Grey': 126, 'Air Yeezy 2 Pure Platinum': 127, 'Air Yeezy 2 Red October': 128, 'Air Yeezy 2 Solar Red': 129, 'Air Zoom Generation Black White Retro': 130, 'Air Zoom Generation SVSM Retro': 131, 'Air Zoom Generation Wheat (All-Star)': 132, 'Asics Gel-Kayano 5 Ronnie Fieg Oasis': 133, 'Converse Chuck Taylor All-Star 70s Hi Chinatown Market UV': 134, 'Converse Chuck Taylor All-Star 70s Hi Comme des Garcons PLAY Black': 135, 'Converse Chuck Taylor All-Star 70s Hi Comme des Garcons PLAY White': 136, 'Converse Chuck Taylor All-Star 70s Hi Comme des Garcons Play Multi-Heart White': 137, 'Converse Chuck Taylor All-Star 70s Hi Fear of God Black': 138, 'Converse Chuck Taylor All-Star 70s Hi Kith Coca-Cola Denim (2019)': 139, 'Converse Chuck Taylor All-Star 70s Hi Off-White': 140, 'Converse Chuck Taylor All-Star 70s Ox Chinatown Market UV': 141, 'Converse Chuck Taylor All-Star 70s Ox Comme des Garcons PLAY Black': 142, 'Converse Chuck Taylor All-Star 70s Ox Comme des Garcons PLAY White': 143, 'Converse Chuck Taylor All-Star 70s Ox Comme des Garcons Play Multi-Heart White': 144, 'Converse Chuck Taylor All-Star Vulcanized Hi  Off-White': 145, 'Converse Run Star Hike Hi JW Anderson Glitter': 146, 'Jordan 1 Low Black Toe': 147, 'Jordan 1 Low Gold Toe': 148, 'Jordan 1 Low Lakers Top 3': 149, 'Jordan 1 Low Royal Toe': 150, 'Jordan 1 Low SB Midnight Navy': 151, 'Jordan 1 Low SB UNC': 152, 'Jordan 1 Low Sail University Gold Black': 153, 'Jordan 1 Low Shattered Backboard': 154, 'Jordan 1 Low White Black Mystic Green': 155, 'Jordan 1 Low White Gum Hyper Pink': 156, 'Jordan 1 Mid All Over Logos': 157, 'Jordan 1 Mid Alternate Think 16': 158, 'Jordan 1 Mid Atmosphere Grey Pale Ivory (W)': 159, 'Jordan 1 Mid Black Cyber Mystic Green (GS)': 160, 'Jordan 1 Mid Black Dark Concord': 161, 'Jordan 1 Mid Black Particle Grey Gym Red': 162, 'Jordan 1 Mid Bred Multi-Color': 163, 'Jordan 1 Mid Coral Gold': 164, 'Jordan 1 Mid Crimson Tint': 165, 'Jordan 1 Mid Gunsmoke Volt': 166, 'Jordan 1 Mid Gym Red Black': 167, 'Jordan 1 Mid Infrared 23': 168, 'Jordan 1 Mid Iridescent Black (W)': 169, 'Jordan 1 Mid Lakers Top 3': 170, 'Jordan 1 Mid Monsoon Blue (GS)': 171, 'Jordan 1 Mid Patent Black White Gold': 172, 'Jordan 1 Mid Pine Green': 173, 'Jordan 1 Mid Quai54 (2019)': 174, 'Jordan 1 Mid Reverse Black Toe (W)': 175, 'Jordan 1 Mid SE Lakers': 176, 'Jordan 1 Mid Team Orange Black': 177, 'Jordan 1 Mid Top 3': 178, 'Jordan 1 Mid Triple Black (2018)': 179, 'Jordan 1 Mid Triple White (2018)': 180, 'Jordan 1 Mid Triple White (2019)': 181, 'Jordan 1 Mid White Black': 182, 'Jordan 1 Mid White Black Gym Red': 183, 'Jordan 1 Mid White Black Teal Tint (GS)': 184, 'Jordan 1 Mid White Metallic Gold Obsidian': 185, 'Jordan 1 Mid White Rose Gold (GS)': 186, 'Jordan 1 Mid White Topaz Mist (GS)': 187, 'Jordan 1 OG Chicago (1985)': 188, 'Jordan 1 Retro Black Metallic Gold (2013)': 189, 'Jordan 1 Retro Black Royal Blue (2001)': 190, 'Jordan 1 Retro Black Toe (2016)': 191, 'Jordan 1 Retro Bred __Banned__ (2016)_': 192, 'Jordan 1 Retro Fragment': 193, 'Jordan 1 Retro High Aleali May Court Lux (W)': 194, 'Jordan 1 Retro High Bio Beige Anthracite Mystic Green (W)': 195, 'Jordan 1 Retro High Black Crimson Tint': 196, 'Jordan 1 Retro High Black Gym Red': 197, 'Jordan 1 Retro High Blue Moon': 198, 'Jordan 1 Retro High Bred Toe': 199, 'Jordan 1 Retro High Camo 3M Bred': 200, 'Jordan 1 Retro High Camo 3M Shadow': 201, 'Jordan 1 Retro High City of Flight': 202, 'Jordan 1 Retro High Clay Green': 203, 'Jordan 1 Retro High Court Purple': 204, 'Jordan 1 Retro High Defiant White Black Gym Red': 205, 'Jordan 1 Retro High Game Royal': 206, 'Jordan 1 Retro High Gatorade Blue Lagoon': 207, 'Jordan 1 Retro High Gatorade Cyber': 208, 'Jordan 1 Retro High Gatorade Orange Peel': 209, 'Jordan 1 Retro High Gold Top 3': 210, 'Jordan 1 Retro High Guava Ice': 211, 'Jordan 1 Retro High Homage To Home (Non-numbered)': 212, 'Jordan 1 Retro High Hyper Royal': 213, 'Jordan 1 Retro High NRG Patent Gold Toe': 214, 'Jordan 1 Retro High Neutral Grey Hyper Crimson': 215, 'Jordan 1 Retro High Nigel Sylvester': 216, 'Jordan 1 Retro High OG Defiant Couture': 217, 'Jordan 1 Retro High OG Defiant SB LA to Chicago': 218, 'Jordan 1 Retro High OG Defiant SB NYC to Paris': 219, 'Jordan 1 Retro High OG Spike Lee Fort Greene': 220, 'Jordan 1 Retro High Off-White Chicago': 221, 'Jordan 1 Retro High Off-White University Blue': 222, 'Jordan 1 Retro High Off-White White': 223, 'Jordan 1 Retro High Pale Ivory (W)': 224, 'Jordan 1 Retro High Paris Saint Germain': 225, 'Jordan 1 Retro High Phantom Gym Red': 226, 'Jordan 1 Retro High Pine Green': 227, 'Jordan 1 Retro High Rookie of the Year': 228, 'Jordan 1 Retro High Satin Black Toe (W)': 229, 'Jordan 1 Retro High Satin Shattered Backboard (W)': 230, 'Jordan 1 Retro High Season of Her Mint Foam (W)': 231, 'Jordan 1 Retro High Shadow (2018)': 232, 'Jordan 1 Retro High Spider-Man Origin Story': 233, 'Jordan 1 Retro High Sports Illustrated (A Star Is Born)': 234, 'Jordan 1 Retro High Track Red': 235, 'Jordan 1 Retro High Travis Scott': 236, 'Jordan 1 Retro High Turbo Green': 237, 'Jordan 1 Retro High Twist (W)': 238, 'Jordan 1 Retro High UNC Leather': 239, 'Jordan 1 Retro High UNC Patent (W)': 240, 'Jordan 1 Retro High Union Los Angeles Black Toe': 241, 'Jordan 1 Retro High Union Los Angeles Blue Toe': 242, 'Jordan 1 Retro High Wheat': 243, 'Jordan 1 Retro High Yellow Ochre': 244, 'Jordan 1 Retro High __Not for Resale__ Varsity Maize_': 245, 'Jordan 1 Retro High __Not for Resale__ Varsity Red_': 246, 'Jordan 1 Retro Low OG SP Travis Scott': 247, 'Jordan 1 Retro Low Slip Chicago (W)': 248, 'Jordan 1 Retro Reverse Shattered Backboard': 249, 'Jordan 1 Retro Royal (2017)': 250, 'Jordan 1 Retro Satin __Banned___': 251, 'Jordan 1 Retro Satin __Royal___': 252, 'Jordan 1 Retro Shattered Backboard': 253, 'Jordan 1 Retro Top 3': 254, 'Jordan 10 OG Sacramento Kings': 255, 'Jordan 10 Retro Doernbecher': 256, 'Jordan 10 Retro Drake OVO Black': 257, 'Jordan 10 Retro Drake OVO White': 258, 'Jordan 10 Retro Orlando': 259, 'Jordan 10 Retro Shadow (2018)': 260, 'Jordan 11 Retro 72-10': 261, 'Jordan 11 Retro Cap and Gown': 262, 'Jordan 11 Retro Concord (2011)': 263, 'Jordan 11 Retro Concord (2018)': 264, 'Jordan 11 Retro Concord DMP (2006)': 265, 'Jordan 11 Retro Cool Grey (2010)': 266, 'Jordan 11 Retro Gamma Blue': 267, 'Jordan 11 Retro Heiress Black Stingray (GS)': 268, 'Jordan 11 Retro Legend Blue (2014)': 269, 'Jordan 11 Retro Low Cherry (2016)': 270, 'Jordan 11 Retro Low Closing Ceremony': 271, 'Jordan 11 Retro Low Concord': 272, 'Jordan 11 Retro Low Cool Grey': 273, 'Jordan 11 Retro Low Derek Jeter RE2PECT': 274, 'Jordan 11 Retro Low Golf Concord': 275, 'Jordan 11 Retro Low Golf White Metallic Gold': 276, 'Jordan 11 Retro Low IE Space Jam': 277, 'Jordan 11 Retro Low Infrared': 278, 'Jordan 11 Retro Low Iridescent': 279, 'Jordan 11 Retro Low Pink Snakeskin (W) (2019)': 280, 'Jordan 11 Retro Low Rose Gold (W)': 281, 'Jordan 11 Retro Low Snake Light Bone': 282, 'Jordan 11 Retro Low Snake Navy (2019)': 283, 'Jordan 11 Retro Low University Blue (2017)': 284, 'Jordan 11 Retro Neutral Olive (W)': 285, 'Jordan 11 Retro Platinum Tint': 286, 'Jordan 11 Retro Playoffs (2012)': 287, 'Jordan 11 Retro UNC Win Like 82': 288, 'Jordan 11 Retro Win Like 96': 289, 'Jordan 12 Retro Black Metallic Gold White (W)': 290, 'Jordan 12 Retro Bordeaux': 291, 'Jordan 12 Retro Chinese New Year (2019)': 292, 'Jordan 12 Retro Deep Royal Blue': 293, 'Jordan 12 Retro Fiba (2019)': 294, 'Jordan 12 Retro Flu Game (2016)': 295, 'Jordan 12 Retro French Blue (2016)': 296, 'Jordan 12 Retro Gym Red': 297, 'Jordan 12 Retro International Flight': 298, 'Jordan 12 Retro Michigan': 299, 'Jordan 12 Retro OVO Black': 300, 'Jordan 12 Retro OVO White': 301, 'Jordan 12 Retro PSNY': 302, 'Jordan 12 Retro PSNY Bordeaux': 303, 'Jordan 12 Retro PSNY Olive': 304, 'Jordan 12 Retro PSNY Wheat': 305, 'Jordan 12 Retro Winter Black': 306, 'Jordan 13 Retro Altitude (2017)': 307, 'Jordan 13 Retro Atmosphere Grey': 308, 'Jordan 13 Retro Bred (2017)': 309, 'Jordan 13 Retro Cap and Gown': 310, 'Jordan 13 Retro Carmelo Anthony Class Of 2002 (B-Grade)': 311, 'Jordan 13 Retro He Got Game (2018)': 312, 'Jordan 13 Retro Lakers': 313, 'Jordan 13 Retro Low Clot Sepia Stone': 314, 'Jordan 13 Retro OG Chicago (2017)': 315, 'Jordan 13 Retro Phantom (W)': 316, 'Jordan 13 Retro Premio Bin 23': 317, 'Jordan 13 Retro Ray Allen PE': 318, 'Jordan 13 Retro White Hyper Royal Black': 319, 'Jordan 14 Retro Ferrari University Gold': 320, 'Jordan 14 Retro Rip Hamilton': 321, 'Jordan 14 Retro Supreme Black': 322, 'Jordan 14 Retro Supreme White': 323, 'Jordan 2 Retro Doernbecher Peacock': 324, 'Jordan 2 Retro Eminem (The Way I Am)': 325, 'Jordan 2 Retro Just Don Beach': 326, 'Jordan 2 Retro Just Don Blue': 327, 'Jordan 23 Finale': 328, 'Jordan 23 Titanium': 329, 'Jordan 3 Retro Black Cement': 330, 'Jordan 3 Retro Chlorophyll': 331, 'Jordan 3 Retro Doernbecher (2013)': 332, 'Jordan 3 Retro Hall of Fame': 333, 'Jordan 3 Retro International Flight': 334, 'Jordan 3 Retro JTH Bio Beige': 335, 'Jordan 3 Retro Mocha (2018)': 336, 'Jordan 3 Retro Oregon Ducks Pit Crew Black': 337, 'Jordan 3 Retro Pure White (2018)': 338, 'Jordan 3 Retro Quai54 (2018)': 339, 'Jordan 3 Retro Sport Blue': 340, 'Jordan 3 Retro Tinker Black Cement Gold': 341, 'Jordan 3 Retro Tinker Hatfield': 342, 'Jordan 3 Retro Tinker White University Red': 343, 'Jordan 3 Retro True Blue (2016)': 344, \"Jordan 3 Retro White Cement ('88 Dunk Contest 2013)\": 345, 'Jordan 4 Retro 30th Anniversary Laser': 346, 'Jordan 4 Retro Black Cement (2012)': 347, 'Jordan 4 Retro Black Laser': 348, 'Jordan 4 Retro Bred (2019)': 349, 'Jordan 4 Retro Columbia (2015)': 350, 'Jordan 4 Retro Cool Grey (2004)': 351, 'Jordan 4 Retro Cool Grey (2019)': 352, 'Jordan 4 Retro Doernbecher': 353, 'Jordan 4 Retro Eminem Carhartt': 354, 'Jordan 4 Retro Flight Nostalgia': 355, 'Jordan 4 Retro Flyknit Red': 356, 'Jordan 4 Retro Hot Punch (W)': 357, 'Jordan 4 Retro Kaws': 358, 'Jordan 4 Retro Kaws Black': 359, 'Jordan 4 Retro Laser Black Gum': 360, \"Jordan 4 Retro Levi's Black (Levi's Tag)\": 361, \"Jordan 4 Retro Levi's White (Levi's Tag)\": 362, 'Jordan 4 Retro Motorsports (2017)': 363, 'Jordan 4 Retro Oregon Ducks': 364, 'Jordan 4 Retro Pure Money (2017)': 365, 'Jordan 4 Retro Raptors (2018)': 366, 'Jordan 4 Retro Royalty': 367, 'Jordan 4 Retro Silt Red Splatter (W)': 368, 'Jordan 4 Retro Tattoo (2018)': 369, 'Jordan 4 Retro Travis Scott Cactus Jack': 370, 'Jordan 4 Retro White Cement (2016)': 371, 'Jordan 4 Retro White Laser': 372, 'Jordan 5 Retro Black Metallic (2016)': 373, 'Jordan 5 Retro Doernbecher': 374, 'Jordan 5 Retro Fire Red Black Tongue (2013)': 375, 'Jordan 5 Retro Grape (2013)': 376, 'Jordan 5 Retro Grape Fresh Prince': 377, 'Jordan 5 Retro JSP Laney Varsity Royal': 378, 'Jordan 5 Retro Michigan (2019)': 379, 'Jordan 5 Retro Paris Saint-Germain': 380, 'Jordan 5 Retro Red Suede': 381, 'Jordan 5 Retro Satin Bred': 382, 'Jordan 5 Retro Trophy Room Ice Blue': 383, 'Jordan 6 Retro Aleali May (W)': 384, 'Jordan 6 Retro Black Cat': 385, 'Jordan 6 Retro Black Infrared (2019)': 386, 'Jordan 6 Retro Carmine (2014)': 387, 'Jordan 6 Retro Flight Nostalgia': 388, 'Jordan 6 Retro Gatorade Green': 389, 'Jordan 6 Retro Gatorade Like Mike White': 390, 'Jordan 6 Retro Infrared Black (2014)': 391, 'Jordan 6 Retro Maroon (2015)': 392, 'Jordan 6 Retro Olympic London (2012)': 393, 'Jordan 6 Retro PSG Paris Saint-Germain': 394, 'Jordan 6 Retro Reflections of a Champion': 395, 'Jordan 6 Retro Social Status': 396, 'Jordan 6 Retro Tinker': 397, 'Jordan 6 Retro UNC': 398, 'Jordan 6 Retro White Laser Fuchsia Green Abyss (GS)': 399, 'Jordan 6 Rings Black Varsity Red': 400, 'Jordan 7 Retro Bordeaux (2015)': 401, 'Jordan 7 Retro Hare (2015)': 402, 'Jordan 7 Retro Miro': 403, 'Jordan 7 Retro Patta Shimmer': 404, 'Jordan 7 Retro Premio Bin 23': 405, 'Jordan 7 Retro Ray Allen Bucks': 406, 'Jordan 7 Retro Reflections of a Champion': 407, 'Jordan 7 Retro Topaz Mist (GS)': 408, 'Jordan 8 Retro Aqua (2015)': 409, 'Jordan 8 Retro Doernbecher': 410, 'Jordan 8 Retro OVO Black': 411, 'Jordan 8 Retro Quai54 (2019)': 412, 'Jordan 8 Retro Reflections of a Champion': 413, 'Jordan 8 Retro Tinker Air Raid': 414, 'Jordan 8 Retro White Aqua (W) (2007)': 415, 'Jordan 9 Retro Dream It Do It': 416, 'Jordan 9 Retro Pearl Blue': 417, 'Nike Flyknit Lunar1+ Supreme Black': 418, 'Nike HyperAdapt 1.0 Black (1st Release Pair Special Box)': 419, 'Nike Hyperdunk 08 United We Rise (2016)': 420, 'Nike Hyperdunk Marty McFly 2015': 421, 'Nike Hyperdunk X TB Midnight Navy': 422, 'Nike PG 2.5 Playstation Wolf Grey': 423, 'Nike PG 3 NASA': 424, 'Nike PG 3 NASA 50th': 425, 'Nike Tailwind 79 Stranger Things Hawkins High School': 426, 'Nike Tailwind 79 Stranger Things Independence Day Pack': 427, 'Nike Zoom Fly Mercurial Off-White Black': 428, 'Nike Zoom Fly Off-White': 429, 'Nike Zoom Fly Off-White Black Silver': 430, 'Nike Zoom Fly Off-White Pink': 431, 'Nike Zoom Freak 1 Antetokounbros': 432, 'Nike Zoom Freak 1 Coming to America': 433, 'Nike Zoom Pegasus 35 Turbo Wolf Grey Hot Punch': 434, 'Nike Zoom Rookie Galaxy (2019)': 435, 'Nike Zoom Terra Kiger 5 Off-White Black (W)': 436, 'Nike Zoom Terra Kiger 5 Off-White Electric Green (W)': 437, 'Nike Zoom Terra Kiger 5 Off-White White (W)': 438, 'Nike Zoom Vomero 5 A Cold Wall Solarized': 439, 'Nike Zoom Vomero 5 SP Vast Grey': 440, 'Nike ZoomX Vaporfly Next% Volt': 441, 'Nike ZoomX Vista Grind Volt (W)': 442, 'NikeCraft Mars Yard Shoe 2.0 Tom Sachs Space Camp': 443, 'Puma Bow Slide Rihanna Fenty Olive (W)': 444, 'Puma Disc Blaze Bape Camo Green': 445, 'Reebok Instapump Fury Aape By a Bathing Ape': 446, 'Reebok Instapump Fury CNCPTS Versace': 447, 'UA Curry 3Zer0 LTD Gold (Signed)': 448, 'Vans Authentic Comme des Garcons': 449, 'Vans Authentic Supreme Black Checker Logo': 450, 'Vans Authentic Supreme Blue Checker Logo': 451, 'Vans Chukka Boot LX Kaws __The Simpsons__ (2007)_': 452, 'Vans Era 95 Fear of God': 453, 'Vans Old Skool Black White': 454, 'Vans Old Skool Checkerboard Racing Red': 455, 'Vans Old Skool David Bowie Aladdin Sane': 456, 'Vans Old Skool Flame (2017)': 457, 'Vans Old Skool Yacht Club': 458, 'Vans Sk8-Hi Fear of God': 459, 'Vans Sk8-Hi Odd Future Donut': 460, 'Vans Sk8-Hi Supreme Black Checker Logo': 461, 'Vans Sk8-Hi Supreme Public Enemy Black White': 462, 'Vans Style 36 Blends Bones': 463, 'Vans Style 36 Marshmallow Racing Red': 464, 'adidas Ultra Boost 1.0 Cream White': 465, 'adidas Ultra Boost 1.0 Multi-Color Toe Navy': 466, 'adidas Ultra Boost 1.0 Multi-Color Toe White': 467, 'adidas Ultra Boost 1.0 SNS Tee Time': 468, 'adidas Ultra Boost 1.0 SNS X Social Status': 469, 'adidas Ultra Boost 1.0 Triple Black': 470, 'adidas Ultra Boost 1.0 Undefeated Stars and Stripes': 471, 'adidas Ultra Boost 1.0 Wood Wood Black': 472, 'adidas Ultra Boost 19 Black Glow': 473, 'adidas Ultra Boost 2 City Stars and Stripes': 474, 'adidas Ultra Boost 2 City White': 475, 'adidas Ultra Boost 2.0 Antique Brass': 476, 'adidas Ultra Boost 2.0 Black Reflective': 477, 'adidas Ultra Boost 2.0 Gold Medal (2016': 478, 'adidas Ultra Boost 2.0 Silver Medal (2018)': 479, 'adidas Ultra Boost 2.0 White Reflective': 480, 'adidas Ultra Boost 2019 Clear Brown Chalk White': 481, 'adidas Ultra Boost 2019 Footwear White': 482, 'adidas Ultra Boost 2019 Oreo': 483, 'adidas Ultra Boost 2019 Panda': 484, 'adidas Ultra Boost 2019 Triple Black': 485, 'adidas Ultra Boost 4 Clear Brown Legend Ink': 486, 'adidas Ultra Boost 4 Grey': 487, 'adidas Ultra Boost 4 Show Your Stripes Black': 488, 'adidas Ultra Boost 4.0 Bape Camo': 489, 'adidas Ultra Boost 4.0 Bape Camo Black': 490, 'adidas Ultra Boost 4.0 Black White Speckle': 491, 'adidas Ultra Boost 4.0 Breast Cancer Awareness': 492, 'adidas Ultra Boost 4.0 Chinese New Year (2018)': 493, 'adidas Ultra Boost 4.0 Chinese New Year (2019)': 494, 'adidas Ultra Boost 4.0 Cloud White Active Red': 495, 'adidas Ultra Boost 4.0 Cloud White Maroon': 496, 'adidas Ultra Boost 4.0 Core Black': 497, 'adidas Ultra Boost 4.0 Game of Thrones House Lannister (W)': 498, 'adidas Ultra Boost 4.0 Game of Thrones House Stark': 499, 'adidas Ultra Boost 4.0 Game of Thrones House Targaryen White (W)': 500, 'adidas Ultra Boost 4.0 Game of Thrones Nights Watch': 501, 'adidas Ultra Boost 4.0 Game of Thrones Targaryen Dragons': 502, 'adidas Ultra Boost 4.0 Game of Thrones White Walkers': 503, 'adidas Ultra Boost 4.0 Grey Three': 504, 'adidas Ultra Boost 4.0 Miami Hurricanes': 505, 'adidas Ultra Boost 4.0 Non Dye Cloud White': 506, 'adidas Ultra Boost 4.0 Orca': 507, 'adidas Ultra Boost 4.0 Orchid Tint': 508, 'adidas Ultra Boost 4.0 Parley Core Black Cloud White': 509, 'adidas Ultra Boost 4.0 Running White': 510, 'adidas Ultra Boost 4.0 Show Your Stripes Cloud White': 511, 'adidas Ultra Boost 4.0 Triple Black': 512, 'adidas Ultra Boost 4.0 Triple Black Gold (W)': 513, 'adidas Ultra Boost 4.0 Triple White (W)': 514, 'adidas Ultra Boost 4.0 White Multi-Color': 515, 'adidas Ultra Boost Clima Black': 516, 'adidas Ultra Boost Clima Missoni Multi-Color': 517, 'adidas Ultra Boost Core Black Active Purple Shock Red': 518, 'adidas Ultra Boost Legend Ivy': 519, 'adidas Ultra Boost Lux Sneakersnstuff x Social Status Vintage White': 520, 'adidas Ultra Boost Manchester United': 521, 'adidas Ultra Boost Mid Kith x Nonnative': 522, 'adidas Ultra Boost Mid Ronnie Fieg': 523, 'adidas Ultra Boost Mid Run Thru Time': 524, 'adidas Ultra Boost OG (2018)': 525, 'adidas Ultra Boost Tech Ink Glow Blue': 526, 'adidas Ultra Boost Uncaged Hypebeast': 527, 'adidas Ultra Boost Undefeated Blackout': 528, 'adidas Y-3 Pureboost White Black': 529, 'adidas Yeezy 500 Blush': 530, 'adidas Yeezy 500 Salt': 531, 'adidas Yeezy 500 Super Moon Yellow': 532, 'adidas Yeezy 500 Utility Black': 533, 'adidas Yeezy 700 Mauve': 534, 'adidas Yeezy 700 V2 Static': 535, 'adidas Yeezy Boost 350 Moonrock': 536, 'adidas Yeezy Boost 350 Turtledove': 537, 'adidas Yeezy Boost 350 V2 Antlia': 538, 'adidas Yeezy Boost 350 V2 Beluga': 539, 'adidas Yeezy Boost 350 V2 Beluga 2.0': 540, 'adidas Yeezy Boost 350 V2 Black': 541, 'adidas Yeezy Boost 350 V2 Black Red': 542, 'adidas Yeezy Boost 350 V2 Blue Tint': 543, 'adidas Yeezy Boost 350 V2 Butter': 544, 'adidas Yeezy Boost 350 V2 Clay': 545, 'adidas Yeezy Boost 350 V2 Core Black Copper': 546, 'adidas Yeezy Boost 350 V2 Core Black Red': 547, 'adidas Yeezy Boost 350 V2 Core Black White': 548, 'adidas Yeezy Boost 350 V2 Cream': 549, 'adidas Yeezy Boost 350 V2 Glow': 550, 'adidas Yeezy Boost 350 V2 Hyperspace': 551, 'adidas Yeezy Boost 350 V2 Lundmark': 552, 'adidas Yeezy Boost 350 V2 Semi Frozen Yellow': 553, 'adidas Yeezy Boost 350 V2 Sesame': 554, 'adidas Yeezy Boost 350 V2 Static': 555, 'adidas Yeezy Boost 350 V2 Static Black': 556, 'adidas Yeezy Boost 350 V2 Synth': 557, 'adidas Yeezy Boost 350 V2 Trfrm': 558, 'adidas Yeezy Boost 350 V2 Zebra': 559, 'adidas Yeezy Boost 700 Analog': 560, 'adidas Yeezy Boost 700 Inertia': 561, 'adidas Yeezy Boost 700 Salt': 562, 'adidas Yeezy Boost 700 Utility Black': 563, 'adidas Yeezy Boost 700 V2 Geode': 564, 'adidas Yeezy Boost 700 V2 Tephra': 565, 'adidas Yeezy Boost 700 V2 Vanta': 566, 'adidas Yeezy Boost 700 Wave Runner Solid Grey': 567, 'adidas Yeezy Boost 750 Light Brown Gum (Chocolate)': 568, 'adidas Yeezy Boost 750 Light Grey Glow In the Dark': 569, 'adidas Yeezy Boost 750 OG Light Brown': 570, 'adidas Yeezy Powerphase Calabasas Core Black': 571, 'adidas Yeezy Powerphase Calabasas Core White': 572, 'adidas Yeezy Powerphase Calabasas Grey': 573}\n"
     ]
    }
   ],
   "source": [
    "print (train_generator.class_indices)\n",
    "\n",
    "labels = '\\n'.join(sorted(train_generator.class_indices.keys()))\n",
    "\n",
    "with open('labels.txt', 'w') as f:\n",
    "  f.write(labels)"
   ]
  },
  {
   "cell_type": "code",
   "execution_count": 11,
   "id": "1f00b6ec",
   "metadata": {},
   "outputs": [
    {
     "name": "stdout",
     "output_type": "stream",
     "text": [
      "Downloading data from https://storage.googleapis.com/tensorflow/keras-applications/mobilenet_v2/mobilenet_v2_weights_tf_dim_ordering_tf_kernels_1.0_224_no_top.h5\n",
      "9406464/9406464 [==============================] - 7s 1us/step\n"
     ]
    }
   ],
   "source": [
    "IMG_SHAPE = (IMAGE_SIZE, IMAGE_SIZE, 3)\n",
    "\n",
    "# Create the base model from the pre-trained model MobileNet V2\n",
    "base_model = tf.keras.applications.MobileNetV2(input_shape=IMG_SHAPE,\n",
    "                                              include_top=False, \n",
    "                                              weights='imagenet')"
   ]
  },
  {
   "cell_type": "code",
   "execution_count": 12,
   "id": "13f6aed2",
   "metadata": {},
   "outputs": [],
   "source": [
    "base_model.trainable = False"
   ]
  },
  {
   "cell_type": "code",
   "execution_count": 13,
   "id": "b7663545",
   "metadata": {},
   "outputs": [],
   "source": [
    "model = tf.keras.Sequential([\n",
    "  base_model,\n",
    "  tf.keras.layers.Conv2D(32, 3, activation='relu'),\n",
    "  tf.keras.layers.Dropout(0.2),\n",
    "  tf.keras.layers.GlobalAveragePooling2D(),\n",
    "  tf.keras.layers.Dense(5, activation='softmax')\n",
    "])"
   ]
  },
  {
   "cell_type": "code",
   "execution_count": 14,
   "id": "8c0990a1",
   "metadata": {},
   "outputs": [],
   "source": [
    "model.compile(optimizer=tf.keras.optimizers.Adam(), \n",
    "              loss='categorical_crossentropy', \n",
    "              metrics=['accuracy'])"
   ]
  },
  {
   "cell_type": "code",
   "execution_count": 15,
   "id": "e52303f5",
   "metadata": {},
   "outputs": [
    {
     "name": "stdout",
     "output_type": "stream",
     "text": [
      "Model: \"sequential\"\n",
      "_________________________________________________________________\n",
      " Layer (type)                Output Shape              Param #   \n",
      "=================================================================\n",
      " mobilenetv2_1.00_224 (Funct  (None, 7, 7, 1280)       2257984   \n",
      " ional)                                                          \n",
      "                                                                 \n",
      " conv2d (Conv2D)             (None, 5, 5, 32)          368672    \n",
      "                                                                 \n",
      " dropout (Dropout)           (None, 5, 5, 32)          0         \n",
      "                                                                 \n",
      " global_average_pooling2d (G  (None, 32)               0         \n",
      " lobalAveragePooling2D)                                          \n",
      "                                                                 \n",
      " dense (Dense)               (None, 5)                 165       \n",
      "                                                                 \n",
      "=================================================================\n",
      "Total params: 2,626,821\n",
      "Trainable params: 368,837\n",
      "Non-trainable params: 2,257,984\n",
      "_________________________________________________________________\n"
     ]
    }
   ],
   "source": [
    "model.summary()"
   ]
  },
  {
   "cell_type": "code",
   "execution_count": 16,
   "id": "15674672",
   "metadata": {},
   "outputs": [
    {
     "name": "stdout",
     "output_type": "stream",
     "text": [
      "Number of trainable variables = 4\n"
     ]
    }
   ],
   "source": [
    "print('Number of trainable variables = {}'.format(len(model.trainable_variables)))"
   ]
  },
  {
   "cell_type": "code",
   "execution_count": 18,
   "id": "09d891e8",
   "metadata": {},
   "outputs": [
    {
     "name": "stdout",
     "output_type": "stream",
     "text": [
      "Epoch 1/10\n"
     ]
    },
    {
     "ename": "InvalidArgumentError",
     "evalue": "Graph execution error:\n\nDetected at node 'categorical_crossentropy/softmax_cross_entropy_with_logits' defined at (most recent call last):\n    File \"C:\\Users\\Ru\\anaconda3\\lib\\runpy.py\", line 197, in _run_module_as_main\n      return _run_code(code, main_globals, None,\n    File \"C:\\Users\\Ru\\anaconda3\\lib\\runpy.py\", line 87, in _run_code\n      exec(code, run_globals)\n    File \"C:\\Users\\Ru\\anaconda3\\lib\\site-packages\\ipykernel_launcher.py\", line 16, in <module>\n      app.launch_new_instance()\n    File \"C:\\Users\\Ru\\anaconda3\\lib\\site-packages\\traitlets\\config\\application.py\", line 846, in launch_instance\n      app.start()\n    File \"C:\\Users\\Ru\\anaconda3\\lib\\site-packages\\ipykernel\\kernelapp.py\", line 677, in start\n      self.io_loop.start()\n    File \"C:\\Users\\Ru\\anaconda3\\lib\\site-packages\\tornado\\platform\\asyncio.py\", line 199, in start\n      self.asyncio_loop.run_forever()\n    File \"C:\\Users\\Ru\\anaconda3\\lib\\asyncio\\base_events.py\", line 601, in run_forever\n      self._run_once()\n    File \"C:\\Users\\Ru\\anaconda3\\lib\\asyncio\\base_events.py\", line 1905, in _run_once\n      handle._run()\n    File \"C:\\Users\\Ru\\anaconda3\\lib\\asyncio\\events.py\", line 80, in _run\n      self._context.run(self._callback, *self._args)\n    File \"C:\\Users\\Ru\\anaconda3\\lib\\site-packages\\ipykernel\\kernelbase.py\", line 471, in dispatch_queue\n      await self.process_one()\n    File \"C:\\Users\\Ru\\anaconda3\\lib\\site-packages\\ipykernel\\kernelbase.py\", line 460, in process_one\n      await dispatch(*args)\n    File \"C:\\Users\\Ru\\anaconda3\\lib\\site-packages\\ipykernel\\kernelbase.py\", line 367, in dispatch_shell\n      await result\n    File \"C:\\Users\\Ru\\anaconda3\\lib\\site-packages\\ipykernel\\kernelbase.py\", line 662, in execute_request\n      reply_content = await reply_content\n    File \"C:\\Users\\Ru\\anaconda3\\lib\\site-packages\\ipykernel\\ipkernel.py\", line 360, in do_execute\n      res = shell.run_cell(code, store_history=store_history, silent=silent)\n    File \"C:\\Users\\Ru\\anaconda3\\lib\\site-packages\\ipykernel\\zmqshell.py\", line 532, in run_cell\n      return super().run_cell(*args, **kwargs)\n    File \"C:\\Users\\Ru\\anaconda3\\lib\\site-packages\\IPython\\core\\interactiveshell.py\", line 2863, in run_cell\n      result = self._run_cell(\n    File \"C:\\Users\\Ru\\anaconda3\\lib\\site-packages\\IPython\\core\\interactiveshell.py\", line 2909, in _run_cell\n      return runner(coro)\n    File \"C:\\Users\\Ru\\anaconda3\\lib\\site-packages\\IPython\\core\\async_helpers.py\", line 129, in _pseudo_sync_runner\n      coro.send(None)\n    File \"C:\\Users\\Ru\\anaconda3\\lib\\site-packages\\IPython\\core\\interactiveshell.py\", line 3106, in run_cell_async\n      has_raised = await self.run_ast_nodes(code_ast.body, cell_name,\n    File \"C:\\Users\\Ru\\anaconda3\\lib\\site-packages\\IPython\\core\\interactiveshell.py\", line 3309, in run_ast_nodes\n      if await self.run_code(code, result, async_=asy):\n    File \"C:\\Users\\Ru\\anaconda3\\lib\\site-packages\\IPython\\core\\interactiveshell.py\", line 3369, in run_code\n      exec(code_obj, self.user_global_ns, self.user_ns)\n    File \"C:\\Users\\Ru\\AppData\\Local\\Temp\\ipykernel_13016\\164480659.py\", line 3, in <cell line: 3>\n      history = model.fit(train_generator,\n    File \"C:\\Users\\Ru\\anaconda3\\lib\\site-packages\\keras\\utils\\traceback_utils.py\", line 64, in error_handler\n      return fn(*args, **kwargs)\n    File \"C:\\Users\\Ru\\anaconda3\\lib\\site-packages\\keras\\engine\\training.py\", line 1409, in fit\n      tmp_logs = self.train_function(iterator)\n    File \"C:\\Users\\Ru\\anaconda3\\lib\\site-packages\\keras\\engine\\training.py\", line 1051, in train_function\n      return step_function(self, iterator)\n    File \"C:\\Users\\Ru\\anaconda3\\lib\\site-packages\\keras\\engine\\training.py\", line 1040, in step_function\n      outputs = model.distribute_strategy.run(run_step, args=(data,))\n    File \"C:\\Users\\Ru\\anaconda3\\lib\\site-packages\\keras\\engine\\training.py\", line 1030, in run_step\n      outputs = model.train_step(data)\n    File \"C:\\Users\\Ru\\anaconda3\\lib\\site-packages\\keras\\engine\\training.py\", line 890, in train_step\n      loss = self.compute_loss(x, y, y_pred, sample_weight)\n    File \"C:\\Users\\Ru\\anaconda3\\lib\\site-packages\\keras\\engine\\training.py\", line 948, in compute_loss\n      return self.compiled_loss(\n    File \"C:\\Users\\Ru\\anaconda3\\lib\\site-packages\\keras\\engine\\compile_utils.py\", line 201, in __call__\n      loss_value = loss_obj(y_t, y_p, sample_weight=sw)\n    File \"C:\\Users\\Ru\\anaconda3\\lib\\site-packages\\keras\\losses.py\", line 139, in __call__\n      losses = call_fn(y_true, y_pred)\n    File \"C:\\Users\\Ru\\anaconda3\\lib\\site-packages\\keras\\losses.py\", line 243, in call\n      return ag_fn(y_true, y_pred, **self._fn_kwargs)\n    File \"C:\\Users\\Ru\\anaconda3\\lib\\site-packages\\keras\\losses.py\", line 1787, in categorical_crossentropy\n      return backend.categorical_crossentropy(\n    File \"C:\\Users\\Ru\\anaconda3\\lib\\site-packages\\keras\\backend.py\", line 5134, in categorical_crossentropy\n      return tf.nn.softmax_cross_entropy_with_logits(\nNode: 'categorical_crossentropy/softmax_cross_entropy_with_logits'\nlogits and labels must be broadcastable: logits_size=[64,5] labels_size=[64,574]\n\t [[{{node categorical_crossentropy/softmax_cross_entropy_with_logits}}]] [Op:__inference_train_function_8459]",
     "output_type": "error",
     "traceback": [
      "\u001b[1;31m---------------------------------------------------------------------------\u001b[0m",
      "\u001b[1;31mInvalidArgumentError\u001b[0m                      Traceback (most recent call last)",
      "Input \u001b[1;32mIn [18]\u001b[0m, in \u001b[0;36m<cell line: 3>\u001b[1;34m()\u001b[0m\n\u001b[0;32m      1\u001b[0m epochs \u001b[38;5;241m=\u001b[39m \u001b[38;5;241m10\u001b[39m\n\u001b[1;32m----> 3\u001b[0m history \u001b[38;5;241m=\u001b[39m \u001b[43mmodel\u001b[49m\u001b[38;5;241;43m.\u001b[39;49m\u001b[43mfit\u001b[49m\u001b[43m(\u001b[49m\u001b[43mtrain_generator\u001b[49m\u001b[43m,\u001b[49m\u001b[43m \u001b[49m\n\u001b[0;32m      4\u001b[0m \u001b[43m                    \u001b[49m\u001b[43mepochs\u001b[49m\u001b[38;5;241;43m=\u001b[39;49m\u001b[43mepochs\u001b[49m\u001b[43m,\u001b[49m\u001b[43m \u001b[49m\n\u001b[0;32m      5\u001b[0m \u001b[43m                    \u001b[49m\u001b[43mvalidation_data\u001b[49m\u001b[38;5;241;43m=\u001b[39;49m\u001b[43mval_generator\u001b[49m\u001b[43m)\u001b[49m\n",
      "File \u001b[1;32m~\\anaconda3\\lib\\site-packages\\keras\\utils\\traceback_utils.py:67\u001b[0m, in \u001b[0;36mfilter_traceback.<locals>.error_handler\u001b[1;34m(*args, **kwargs)\u001b[0m\n\u001b[0;32m     65\u001b[0m \u001b[38;5;28;01mexcept\u001b[39;00m \u001b[38;5;167;01mException\u001b[39;00m \u001b[38;5;28;01mas\u001b[39;00m e:  \u001b[38;5;66;03m# pylint: disable=broad-except\u001b[39;00m\n\u001b[0;32m     66\u001b[0m   filtered_tb \u001b[38;5;241m=\u001b[39m _process_traceback_frames(e\u001b[38;5;241m.\u001b[39m__traceback__)\n\u001b[1;32m---> 67\u001b[0m   \u001b[38;5;28;01mraise\u001b[39;00m e\u001b[38;5;241m.\u001b[39mwith_traceback(filtered_tb) \u001b[38;5;28;01mfrom\u001b[39;00m \u001b[38;5;28mNone\u001b[39m\n\u001b[0;32m     68\u001b[0m \u001b[38;5;28;01mfinally\u001b[39;00m:\n\u001b[0;32m     69\u001b[0m   \u001b[38;5;28;01mdel\u001b[39;00m filtered_tb\n",
      "File \u001b[1;32m~\\anaconda3\\lib\\site-packages\\tensorflow\\python\\eager\\execute.py:54\u001b[0m, in \u001b[0;36mquick_execute\u001b[1;34m(op_name, num_outputs, inputs, attrs, ctx, name)\u001b[0m\n\u001b[0;32m     52\u001b[0m \u001b[38;5;28;01mtry\u001b[39;00m:\n\u001b[0;32m     53\u001b[0m   ctx\u001b[38;5;241m.\u001b[39mensure_initialized()\n\u001b[1;32m---> 54\u001b[0m   tensors \u001b[38;5;241m=\u001b[39m pywrap_tfe\u001b[38;5;241m.\u001b[39mTFE_Py_Execute(ctx\u001b[38;5;241m.\u001b[39m_handle, device_name, op_name,\n\u001b[0;32m     55\u001b[0m                                       inputs, attrs, num_outputs)\n\u001b[0;32m     56\u001b[0m \u001b[38;5;28;01mexcept\u001b[39;00m core\u001b[38;5;241m.\u001b[39m_NotOkStatusException \u001b[38;5;28;01mas\u001b[39;00m e:\n\u001b[0;32m     57\u001b[0m   \u001b[38;5;28;01mif\u001b[39;00m name \u001b[38;5;129;01mis\u001b[39;00m \u001b[38;5;129;01mnot\u001b[39;00m \u001b[38;5;28;01mNone\u001b[39;00m:\n",
      "\u001b[1;31mInvalidArgumentError\u001b[0m: Graph execution error:\n\nDetected at node 'categorical_crossentropy/softmax_cross_entropy_with_logits' defined at (most recent call last):\n    File \"C:\\Users\\Ru\\anaconda3\\lib\\runpy.py\", line 197, in _run_module_as_main\n      return _run_code(code, main_globals, None,\n    File \"C:\\Users\\Ru\\anaconda3\\lib\\runpy.py\", line 87, in _run_code\n      exec(code, run_globals)\n    File \"C:\\Users\\Ru\\anaconda3\\lib\\site-packages\\ipykernel_launcher.py\", line 16, in <module>\n      app.launch_new_instance()\n    File \"C:\\Users\\Ru\\anaconda3\\lib\\site-packages\\traitlets\\config\\application.py\", line 846, in launch_instance\n      app.start()\n    File \"C:\\Users\\Ru\\anaconda3\\lib\\site-packages\\ipykernel\\kernelapp.py\", line 677, in start\n      self.io_loop.start()\n    File \"C:\\Users\\Ru\\anaconda3\\lib\\site-packages\\tornado\\platform\\asyncio.py\", line 199, in start\n      self.asyncio_loop.run_forever()\n    File \"C:\\Users\\Ru\\anaconda3\\lib\\asyncio\\base_events.py\", line 601, in run_forever\n      self._run_once()\n    File \"C:\\Users\\Ru\\anaconda3\\lib\\asyncio\\base_events.py\", line 1905, in _run_once\n      handle._run()\n    File \"C:\\Users\\Ru\\anaconda3\\lib\\asyncio\\events.py\", line 80, in _run\n      self._context.run(self._callback, *self._args)\n    File \"C:\\Users\\Ru\\anaconda3\\lib\\site-packages\\ipykernel\\kernelbase.py\", line 471, in dispatch_queue\n      await self.process_one()\n    File \"C:\\Users\\Ru\\anaconda3\\lib\\site-packages\\ipykernel\\kernelbase.py\", line 460, in process_one\n      await dispatch(*args)\n    File \"C:\\Users\\Ru\\anaconda3\\lib\\site-packages\\ipykernel\\kernelbase.py\", line 367, in dispatch_shell\n      await result\n    File \"C:\\Users\\Ru\\anaconda3\\lib\\site-packages\\ipykernel\\kernelbase.py\", line 662, in execute_request\n      reply_content = await reply_content\n    File \"C:\\Users\\Ru\\anaconda3\\lib\\site-packages\\ipykernel\\ipkernel.py\", line 360, in do_execute\n      res = shell.run_cell(code, store_history=store_history, silent=silent)\n    File \"C:\\Users\\Ru\\anaconda3\\lib\\site-packages\\ipykernel\\zmqshell.py\", line 532, in run_cell\n      return super().run_cell(*args, **kwargs)\n    File \"C:\\Users\\Ru\\anaconda3\\lib\\site-packages\\IPython\\core\\interactiveshell.py\", line 2863, in run_cell\n      result = self._run_cell(\n    File \"C:\\Users\\Ru\\anaconda3\\lib\\site-packages\\IPython\\core\\interactiveshell.py\", line 2909, in _run_cell\n      return runner(coro)\n    File \"C:\\Users\\Ru\\anaconda3\\lib\\site-packages\\IPython\\core\\async_helpers.py\", line 129, in _pseudo_sync_runner\n      coro.send(None)\n    File \"C:\\Users\\Ru\\anaconda3\\lib\\site-packages\\IPython\\core\\interactiveshell.py\", line 3106, in run_cell_async\n      has_raised = await self.run_ast_nodes(code_ast.body, cell_name,\n    File \"C:\\Users\\Ru\\anaconda3\\lib\\site-packages\\IPython\\core\\interactiveshell.py\", line 3309, in run_ast_nodes\n      if await self.run_code(code, result, async_=asy):\n    File \"C:\\Users\\Ru\\anaconda3\\lib\\site-packages\\IPython\\core\\interactiveshell.py\", line 3369, in run_code\n      exec(code_obj, self.user_global_ns, self.user_ns)\n    File \"C:\\Users\\Ru\\AppData\\Local\\Temp\\ipykernel_13016\\164480659.py\", line 3, in <cell line: 3>\n      history = model.fit(train_generator,\n    File \"C:\\Users\\Ru\\anaconda3\\lib\\site-packages\\keras\\utils\\traceback_utils.py\", line 64, in error_handler\n      return fn(*args, **kwargs)\n    File \"C:\\Users\\Ru\\anaconda3\\lib\\site-packages\\keras\\engine\\training.py\", line 1409, in fit\n      tmp_logs = self.train_function(iterator)\n    File \"C:\\Users\\Ru\\anaconda3\\lib\\site-packages\\keras\\engine\\training.py\", line 1051, in train_function\n      return step_function(self, iterator)\n    File \"C:\\Users\\Ru\\anaconda3\\lib\\site-packages\\keras\\engine\\training.py\", line 1040, in step_function\n      outputs = model.distribute_strategy.run(run_step, args=(data,))\n    File \"C:\\Users\\Ru\\anaconda3\\lib\\site-packages\\keras\\engine\\training.py\", line 1030, in run_step\n      outputs = model.train_step(data)\n    File \"C:\\Users\\Ru\\anaconda3\\lib\\site-packages\\keras\\engine\\training.py\", line 890, in train_step\n      loss = self.compute_loss(x, y, y_pred, sample_weight)\n    File \"C:\\Users\\Ru\\anaconda3\\lib\\site-packages\\keras\\engine\\training.py\", line 948, in compute_loss\n      return self.compiled_loss(\n    File \"C:\\Users\\Ru\\anaconda3\\lib\\site-packages\\keras\\engine\\compile_utils.py\", line 201, in __call__\n      loss_value = loss_obj(y_t, y_p, sample_weight=sw)\n    File \"C:\\Users\\Ru\\anaconda3\\lib\\site-packages\\keras\\losses.py\", line 139, in __call__\n      losses = call_fn(y_true, y_pred)\n    File \"C:\\Users\\Ru\\anaconda3\\lib\\site-packages\\keras\\losses.py\", line 243, in call\n      return ag_fn(y_true, y_pred, **self._fn_kwargs)\n    File \"C:\\Users\\Ru\\anaconda3\\lib\\site-packages\\keras\\losses.py\", line 1787, in categorical_crossentropy\n      return backend.categorical_crossentropy(\n    File \"C:\\Users\\Ru\\anaconda3\\lib\\site-packages\\keras\\backend.py\", line 5134, in categorical_crossentropy\n      return tf.nn.softmax_cross_entropy_with_logits(\nNode: 'categorical_crossentropy/softmax_cross_entropy_with_logits'\nlogits and labels must be broadcastable: logits_size=[64,5] labels_size=[64,574]\n\t [[{{node categorical_crossentropy/softmax_cross_entropy_with_logits}}]] [Op:__inference_train_function_8459]"
     ]
    }
   ],
   "source": [
    "epochs = 10\n",
    "\n",
    "history = model.fit(train_generator, \n",
    "                    epochs=epochs, \n",
    "                    validation_data=val_generator)"
   ]
  },
  {
   "cell_type": "code",
   "execution_count": null,
   "id": "87e1756e",
   "metadata": {},
   "outputs": [],
   "source": []
  }
 ],
 "metadata": {
  "kernelspec": {
   "display_name": "Python 3 (ipykernel)",
   "language": "python",
   "name": "python3"
  },
  "language_info": {
   "codemirror_mode": {
    "name": "ipython",
    "version": 3
   },
   "file_extension": ".py",
   "mimetype": "text/x-python",
   "name": "python",
   "nbconvert_exporter": "python",
   "pygments_lexer": "ipython3",
   "version": "3.9.12"
  }
 },
 "nbformat": 4,
 "nbformat_minor": 5
}
