{
 "cells": [
  {
   "cell_type": "code",
   "execution_count": 2,
   "id": "50279741",
   "metadata": {},
   "outputs": [],
   "source": [
    "import matplotlib.pyplot as plt\n",
    "import numpy as np\n",
    "import os\n",
    "import PIL\n",
    "import tensorflow as tf\n",
    "import pathlib\n",
    "import glob\n",
    "import imghdr\n",
    "\n",
    "from pathlib import Path\n",
    "from tensorflow import keras\n",
    "from tensorflow.keras import layers\n",
    "from tensorflow.keras.models import Sequential"
   ]
  },
  {
   "cell_type": "code",
   "execution_count": 3,
   "id": "09e45a34",
   "metadata": {
    "scrolled": true
   },
   "outputs": [],
   "source": [
    "data_dir = pathlib.Path(\"C:/Users/Ru/Desktop/Aruviyn/Year 3 Sem 2/FYP_System/sneaker_dataset/images/train\")\n",
    "#C:\\Users\\Ru\\Desktop\\Aruviyn\\Year 3 Sem 2\\FYP_System\\sneaker_dataset\\images\\train"
   ]
  },
  {
   "cell_type": "code",
   "execution_count": null,
   "id": "9fb124f5",
   "metadata": {},
   "outputs": [],
   "source": [
    "#CODE TO CHECK IF IMAGES ARE ACCEPTED OR NOT BY TENSORFLOW\n",
    "from pathlib import Path\n",
    "import imghdr\n",
    "\n",
    "data_check = \"C:/Users/Ru/Desktop/Aruviyn/Year 3 Sem 2/FYP_System/sneaker_dataset/images/train2\"\n",
    "image_extensions = [\".png\", \".jpg\"]  # add there all your images file extensions\n",
    "\n",
    "img_type_accepted_by_tf = [\"bmp\", \"gif\", \"jpeg\", \"png\"]\n",
    "for filepath in Path(data_check).rglob(\"*\"):\n",
    "    if filepath.suffix.lower() in image_extensions:\n",
    "        img_type = imghdr.what(filepath)\n",
    "        if img_type is None:\n",
    "            print(f\"{filepath} is not an image\")\n",
    "        elif img_type not in img_type_accepted_by_tf:\n",
    "            print(f\"{filepath} is a {img_type}, not accepted by TensorFlow\")"
   ]
  },
  {
   "cell_type": "code",
   "execution_count": 4,
   "id": "91118c44",
   "metadata": {},
   "outputs": [
    {
     "name": "stdout",
     "output_type": "stream",
     "text": [
      "52206\n"
     ]
    }
   ],
   "source": [
    "image_count = len(list(data_dir.glob('*/*.jpg')))\n",
    "print(image_count)"
   ]
  },
  {
   "cell_type": "code",
   "execution_count": null,
   "id": "c2f75e49",
   "metadata": {},
   "outputs": [],
   "source": [
    "j1lbt = list(data_dir.glob('Jordan 1 Low Black Toe/*'))\n",
    "PIL.Image.open(str(j1lbt[0]))"
   ]
  },
  {
   "cell_type": "code",
   "execution_count": null,
   "id": "ff499ebe",
   "metadata": {},
   "outputs": [],
   "source": [
    "PIL.Image.open(str(j1lbt[1]))"
   ]
  },
  {
   "cell_type": "code",
   "execution_count": null,
   "id": "9ad76010",
   "metadata": {},
   "outputs": [],
   "source": [
    "j4rk = list(data_dir.glob('Jordan 4 Retro Kaws/*'))\n",
    "PIL.Image.open(str(j4rk[0]))"
   ]
  },
  {
   "cell_type": "code",
   "execution_count": null,
   "id": "0581f190",
   "metadata": {},
   "outputs": [],
   "source": [
    "PIL.Image.open(str(j4rk[1]))"
   ]
  },
  {
   "cell_type": "code",
   "execution_count": 5,
   "id": "c206b45a",
   "metadata": {},
   "outputs": [],
   "source": [
    "batch_size = 32\n",
    "img_height = 180\n",
    "img_width = 180"
   ]
  },
  {
   "cell_type": "code",
   "execution_count": 6,
   "id": "d70bb61b",
   "metadata": {},
   "outputs": [
    {
     "name": "stdout",
     "output_type": "stream",
     "text": [
      "Found 52206 files belonging to 898 classes.\n",
      "Using 41765 files for training.\n"
     ]
    }
   ],
   "source": [
    "train_ds = tf.keras.utils.image_dataset_from_directory(\n",
    "  data_dir,\n",
    "  validation_split=0.2,\n",
    "  subset=\"training\",\n",
    "  seed=123,\n",
    "  image_size=(img_height, img_width),\n",
    "  batch_size=batch_size)"
   ]
  },
  {
   "cell_type": "code",
   "execution_count": 7,
   "id": "b79fc144",
   "metadata": {},
   "outputs": [
    {
     "name": "stdout",
     "output_type": "stream",
     "text": [
      "Found 52206 files belonging to 898 classes.\n",
      "Using 10441 files for validation.\n"
     ]
    }
   ],
   "source": [
    "val_ds = tf.keras.utils.image_dataset_from_directory(\n",
    "  data_dir,\n",
    "  validation_split=0.2,\n",
    "  subset=\"validation\",\n",
    "  seed=123,\n",
    "  image_size=(img_height, img_width),\n",
    "  batch_size=batch_size)"
   ]
  },
  {
   "cell_type": "code",
   "execution_count": 8,
   "id": "fa5a2eee",
   "metadata": {},
   "outputs": [
    {
     "name": "stdout",
     "output_type": "stream",
     "text": [
      "['A Bathing Ape Bapesta Kanye West College Dropout', 'A Bathing Ape Bapesta Ronnie Fieg Fiegsta Sand', 'ACE 16 PureControl Ultra Boost Kith Flamingos', 'ASICS GT-II Ronnie Fieg __High Risk___', 'ASICS Gel-Lyte III Afew __Koi___', 'ASICS Gel-Lyte III Hanon __Wildcats___', 'ASICS Gel-Lyte III Ronnie Fieg Militia (Special Box)', 'ASICS Gel-Lyte III Ronnie Fieg Super Green', 'ASICS Gel-Lyte III Ronnie Fieg __Flamingo___', 'ASICS Gel-Lyte III Ronnie Fieg __Homage__ (Special Box)_', 'ASICS Gel-Lyte III Ronnie Fieg __Leatherbacks___', 'ASICS Gel-Lyte III Ronnie Fieg __Mint Leaf___', 'ASICS Gel-Lyte III Ronnie Fieg __Salmon Toes___', 'ASICS Gel-Lyte III Woei __Cervidae___', 'Air Fear Of God 1 Black', 'Air Fear Of God 1 Frosted Spruce', 'Air Fear Of God 1 Orange Pulse', 'Air Fear Of God 1 Sail Black', 'Air Fear Of God 1 Yellow', 'Air Fear Of God Moccasin Black', 'Air Fear Of God Moccasin Particle Beige', 'Air Fear Of God Moccasin Pure Platinum', 'Air Fear Of God Raid Black', 'Air Fear of God Raid Light Bone', 'Air Flightposite 1 Black Topaz Mist', 'Air Foamposite One Albino Snakeskin', 'Air Foamposite One All-Star 2019 (GS)', 'Air Foamposite One Habanero Red', 'Air Foamposite One Iridescent (W)', 'Air Foamposite One Marble (W)', 'Air Foamposite One Navy Gum', 'Air Foamposite One Obsidian Glitter (W)', 'Air Foamposite One ParaNorman', 'Air Foamposite One Supreme Black', 'Air Foamposite One Supreme Red', 'Air Foamposite One USA (W)', 'Air Foamposite Pro Gym Blue (GS)', 'Air Foamposite Pro Sequoia', 'Air Force 1 Flyknit 2 White Pure Platinum', 'Air Force 1 Flyleather Steve Harrington Earth Day (2019)', 'Air Force 1 Foamposite Cup University Red', 'Air Force 1 High Emotionally Unavailable', 'Air Force 1 High Flax (2018)', 'Air Force 1 LX Vandalised White (W)', 'Air Force 1 Low 3x1 Denim Raw Indigo', 'Air Force 1 Low A Cold Wall Black', 'Air Force 1 Low Carhartt WIP Ale Brown', 'Air Force 1 Low De Lo Mio', 'Air Force 1 Low Devin Booker', 'Air Force 1 Low Equality', 'Air Force 1 Low Noise Cancelling Pack Odell Beckham Jr', 'Air Force 1 Low Off-White Black White', 'Air Force 1 Low Off-White MCA University Blue', 'Air Force 1 Low Off-White Volt', 'Air Force 1 Low Retro Ivory Snake', 'Air Force 1 Low Roc-A-Fella (AF100)', 'Air Force 1 Low Supreme x Comme des Garcons (2018)', 'Air Force 1 Low Travis Scott (AF100)', 'Air Force 1 Low Travis Scott Sail', 'Air Force 1 Low Utility Black White', 'Air Force 1 Low VLONE (2017)', \"Air Force 1 Low White '07\", 'Air Force 1 Low White 2014 (GS)', 'Air Force 1 Low White Deep Royal', 'Air Force 1 Low White Gym Red', 'Air Force 1 Mid Supreme NBA White', 'Air Force 1 Type', 'Air Force 1 Type Black', 'Air Huarache Black Black White', 'Air Huarache Drift South Beach', 'Air Huarache White Platinum', 'Air Jordan 1 Mid Yellow Toe Black', 'Air Max 1 112 Pack', 'Air Max 1 AMS Parra Amsterdam', 'Air Max 1 Animal Pack', 'Air Max 1 Anniversary Obsidian', 'Air Max 1 Anniversary Red (2017)', 'Air Max 1 Anniversary Royal (2017)', 'Air Max 1 Armory Navy', 'Air Max 1 Atmos Animal Pack 2.0 (2018 All Black Box)', 'Air Max 1 Atmos Elephant (2017)', 'Air Max 1 Have a Nike Day', 'Air Max 1 Inside Out Club Gold Black', 'Air Max 1 Inside Out Phantom Black', 'Air Max 1 Just Do It Orange (W)', 'Air Max 1 Just Do It White (W)', 'Air Max 1 Kid Robot (2005)', 'Air Max 1 Master', 'Air Max 1 NL SP Clot __Kiss of Death__ (2006)_', 'Air Max 1 Parra (2018)', 'Air Max 1 Parra Patta __Cherrywood___', 'Air Max 1 Patta 5th Anniv Green', 'Air Max 1 Pro Purple Fade', 'Air Max 1 Puerto Rico (2019)', 'Air Max 1 Susan Missing Link', 'Air Max 1 Swipa', 'Air Max 1 Tinker Schematic', 'Air Max 1 Tinker Schematic Black', 'Air Max 1 Tinker Sketch to Shelf', 'Air Max 1 Tokyo Maze', 'Air Max 1 White Black Volt Rush Pink', 'Air Max 1 White Photo Blue Black', 'Air Max 1 White Pure Platinum', 'Air Max 1 Windbreaker', 'Air Max 1_97 Sean Wotherspoon', 'Air Max 2 Light Atmos', 'Air Max 270 Black White', 'Air Max 270 React Bauhaus', 'Air Max 270 React Hyper Jade', 'Air Max 270 Throwback Future', 'Air Max 270 Triple Black', 'Air Max 270 White Black', 'Air Max 720 Be True (2019)', 'Air Max 720 Black Mesh', 'Air Max 720 Black Neon Streaks', 'Air Max 720 OBJ Odell Beckham Jr Desert Ore', 'Air Max 720 OBJ Odell Beckham Jr Young King of The Drip', 'Air Max 720 Saturn White Black Red', 'Air Max 720 Sunrise', 'Air Max 90', 'Air Max 90 Be True (2019)', 'Air Max 90 Green Python', 'Air Max 90 Mars Landing', 'Air Max 90 OFF-WHITE', 'Air Max 90 OFF-WHITE Black', 'Air Max 90 OFF-WHITE Desert Ore', 'Air Max 90 OG Infrared (2015)', 'Air Max 90 Patta __Homegrown Grass___', 'Air Max 90 Python', 'Air Max 90 Triple Black (2018)', 'Air Max 90 Triple Red', 'Air Max 90 Triple White', 'Air Max 90 Viotech', 'Air Max 95 Atmos Animal Pack 2.0 (2018 All Black Box)', 'Air Max 95 ERDL Party Black', 'Air Max 95 ERDL Party White', 'Air Max 95 OG Neutral Olive Total Orange', 'Air Max 95 Stash', 'Air Max 97 Black White', 'Air Max 97 Bright Citron', 'Air Max 97 Country Camo (France)', 'Air Max 97 Country Camo (Germany)', 'Air Max 97 Country Camo (Italy)', 'Air Max 97 Country Camo (UK)', 'Air Max 97 Country Camo (USA)', 'Air Max 97 Cristiano Ronaldo Portugal Patchwork', 'Air Max 97 Game Royal Metallic Silver University Red', 'Air Max 97 Have a Nike Day', 'Air Max 97 Metallic Gold', 'Air Max 97 Moon Particle Bright Crimson', 'Air Max 97 Neon Seoul', 'Air Max 97 Off-White', 'Air Max 97 Pale Pink (W)', 'Air Max 97 Shanghai Kaleidoscope', 'Air Max 97 Shipping Box Ale Brown', 'Air Max 97 Silver Black', 'Air Max 97 Silver Bullet (2016', 'Air Max 97 Triple Black', 'Air Max 97 Triple White Wolf Grey', 'Air Max 97 UNDFTD Black', 'Air Max 97 Ultra 17 Skepta', 'Air Max 97 White Black Persian Violet (GS)', 'Air Max 97 White Pure Platinum (W)', 'Air Max 97 White Reflect Silver', 'Air Max 98 La Mezcla', 'Air Max 98 Supreme Black', 'Air Max Lunar90 SP Moon Landing', 'Air Max Plus OG Hyper Blue (2018)', 'Air Max Plus OG Voltage Purple', 'Air Max Tailwind 4 Supreme White', 'Air Max Tailwind 4 White Volt Black', 'Air More Uptempo 96 Camo', 'Air More Uptempo Peanut Butter & Jelly (GS)', 'Air More Uptempo Supreme __Suptempo__ Black_', 'Air More Uptempo Supreme __Suptempo__ Gold_', 'Air More Uptempo Supreme __Suptempo__ Red_', 'Air More Uptempo University Red Black White (GS)', 'Air More Uptempo What The 90s (GS)', 'Air More Uptempo White Midnight Navy (GS)', 'Air Presto Acronym Bamboo', 'Air Presto Acronym Olive', 'Air Presto Acronym Volt', 'Air Presto Mid Acronym Cool Grey', 'Air Presto Mid Acronym Racer Pink', 'Air Presto Off-White', 'Air Presto Off-White Black (2018)', 'Air Presto Off-White White (2018)', 'Air Skylon 2 Fear of God Black Sail', 'Air Skylon 2 Fear of God Light Bone', 'Air Skylon 2 Fear of God White', 'Air Tailwind 79 Stranger Things Sail Upside Down Pack', 'Air Tech Challenge II Wimbledon (2013)', 'Air Trainer 3 Medicine Ball (2019)', 'Air VaporMax 2 Black Dark Grey', 'Air VaporMax 2 Rust Pink (W)', 'Air VaporMax 2 Safari', 'Air VaporMax 2019 Cactus Plant Flea Market (W)', 'Air VaporMax 2019 Triple Black', 'Air VaporMax 2019 White University Gold Wolf Grey', 'Air VaporMax 97 Metallic Gold', 'Air VaporMax Clot Bright Crimson', 'Air VaporMax Flyknit 2 Orca', 'Air VaporMax Flyknit 3 Blue Fury', 'Air VaporMax Flyknit 3 Oreo', 'Air VaporMax Flyknit 3.0 Triple Black', 'Air VaporMax Off-White', 'Air VaporMax Off-White Black', 'Air VaporMax Oreo', 'Air VaporMax Plus Paris Works in Progress', 'Air VaporMax Plus Triple Black', 'Air VaporMax Plus White', 'Air VaporMax Run Utility Black Anthracite', 'Air VaporMax Run Utility Blue Dusk', 'Air VaporMax Run Utility Medium Olive', 'Air Vapormax Off White 2018', 'Air Yeezy 1 Blink', 'Air Yeezy 1 Zen Grey', 'Air Yeezy 2 Pure Platinum', 'Air Yeezy 2 Red October', 'Air Yeezy 2 Solar Red', 'Air Zoom Generation Black White Retro', 'Air Zoom Generation SVSM Retro', 'Air Zoom Generation Wheat (All-Star)', 'Asics Gel-Kayano 5 Ronnie Fieg Oasis', 'Balenciaga Speed Trainer Black White (2018)', 'Balenciaga Track sneakers_', 'Balenciaga Triple S_', 'Carol Christian Poell Drip Sneakers_', 'Converse Chuck Taylor All-Star 70s Hi Chinatown Market UV', 'Converse Chuck Taylor All-Star 70s Hi Comme des Garcons PLAY Black', 'Converse Chuck Taylor All-Star 70s Hi Comme des Garcons PLAY White', 'Converse Chuck Taylor All-Star 70s Hi Comme des Garcons Play Multi-Heart White', 'Converse Chuck Taylor All-Star 70s Hi Fear of God Black', 'Converse Chuck Taylor All-Star 70s Hi Kith Coca-Cola Denim (2019)', 'Converse Chuck Taylor All-Star 70s Hi Off-White', 'Converse Chuck Taylor All-Star 70s Ox Chinatown Market UV', 'Converse Chuck Taylor All-Star 70s Ox Comme des Garcons PLAY Black', 'Converse Chuck Taylor All-Star 70s Ox Comme des Garcons PLAY White', 'Converse Chuck Taylor All-Star 70s Ox Comme des Garcons Play Multi-Heart White', 'Converse Chuck Taylor All-Star Vulcanized Hi  Off-White', 'Converse Run Star Hike Hi JW Anderson Glitter', 'Diadora Intrepid Kith From Seoul To Rio', 'Diadora N9000 LimitEDition __Castellers___', 'Diadora N9000 Packer Shoes x Raekwon __Purple Tape___', 'Dunk High Pro SB Supreme Blue Stars', 'Dunk High Pro SB Supreme Red Stars', 'Fear Of God Military Sneaker Canapa', 'Fear Of God Military Sneaker Kith Blue', 'Flyknit Trainer Multi-Color', 'Flyknit Trainer White Black (2017)', 'Jordan 1 Low Black Toe', 'Jordan 1 Low Gold Toe', 'Jordan 1 Low Lakers Top 3', 'Jordan 1 Low Royal Toe', 'Jordan 1 Low SB Midnight Navy', 'Jordan 1 Low SB UNC', 'Jordan 1 Low Sail University Gold Black', 'Jordan 1 Low Shattered Backboard', 'Jordan 1 Low White Black Mystic Green', 'Jordan 1 Low White Gum Hyper Pink', 'Jordan 1 Mid All Over Logos', 'Jordan 1 Mid Alternate Think 16', 'Jordan 1 Mid Atmosphere Grey Pale Ivory (W)', 'Jordan 1 Mid Black Cyber Mystic Green (GS)', 'Jordan 1 Mid Black Dark Concord', 'Jordan 1 Mid Black Particle Grey Gym Red', 'Jordan 1 Mid Bred Multi-Color', 'Jordan 1 Mid Coral Gold', 'Jordan 1 Mid Crimson Tint', 'Jordan 1 Mid Gunsmoke Volt', 'Jordan 1 Mid Gym Red Black', 'Jordan 1 Mid Infrared 23', 'Jordan 1 Mid Iridescent Black (W)', 'Jordan 1 Mid Lakers Top 3', 'Jordan 1 Mid Monsoon Blue (GS)', 'Jordan 1 Mid Patent Black White Gold', 'Jordan 1 Mid Pine Green', 'Jordan 1 Mid Quai54 (2019)', 'Jordan 1 Mid Reverse Black Toe (W)', 'Jordan 1 Mid SE Lakers', 'Jordan 1 Mid Team Orange Black', 'Jordan 1 Mid Top 3', 'Jordan 1 Mid Triple Black (2018)', 'Jordan 1 Mid Triple White (2018)', 'Jordan 1 Mid Triple White (2019)', 'Jordan 1 Mid White Black', 'Jordan 1 Mid White Black Gym Red', 'Jordan 1 Mid White Black Teal Tint (GS)', 'Jordan 1 Mid White Metallic Gold Obsidian', 'Jordan 1 Mid White Rose Gold (GS)', 'Jordan 1 Mid White Topaz Mist (GS)', 'Jordan 1 OG Chicago (1985)', 'Jordan 1 Retro Black Metallic Gold (2013)', 'Jordan 1 Retro Black Royal Blue (2001)', 'Jordan 1 Retro Black Toe (2016)', 'Jordan 1 Retro Bred __Banned__ (2016)_', 'Jordan 1 Retro Fragment', 'Jordan 1 Retro High Aleali May Court Lux (W)', 'Jordan 1 Retro High Bio Beige Anthracite Mystic Green (W)', 'Jordan 1 Retro High Black Crimson Tint', 'Jordan 1 Retro High Black Gym Red', 'Jordan 1 Retro High Blue Moon', 'Jordan 1 Retro High Bred Toe', 'Jordan 1 Retro High Camo 3M Bred', 'Jordan 1 Retro High Camo 3M Shadow', 'Jordan 1 Retro High City of Flight', 'Jordan 1 Retro High Clay Green', 'Jordan 1 Retro High Court Purple', 'Jordan 1 Retro High Defiant White Black Gym Red', 'Jordan 1 Retro High Game Royal', 'Jordan 1 Retro High Gatorade Blue Lagoon', 'Jordan 1 Retro High Gatorade Cyber', 'Jordan 1 Retro High Gatorade Orange Peel', 'Jordan 1 Retro High Gold Top 3', 'Jordan 1 Retro High Guava Ice', 'Jordan 1 Retro High Homage To Home (Non-numbered)', 'Jordan 1 Retro High Hyper Royal', 'Jordan 1 Retro High NRG Patent Gold Toe', 'Jordan 1 Retro High Neutral Grey Hyper Crimson', 'Jordan 1 Retro High Nigel Sylvester', 'Jordan 1 Retro High OG Defiant Couture', 'Jordan 1 Retro High OG Defiant SB LA to Chicago', 'Jordan 1 Retro High OG Defiant SB NYC to Paris', 'Jordan 1 Retro High OG Spike Lee Fort Greene', 'Jordan 1 Retro High Off-White Chicago', 'Jordan 1 Retro High Off-White University Blue', 'Jordan 1 Retro High Off-White White', 'Jordan 1 Retro High Pale Ivory (W)', 'Jordan 1 Retro High Paris Saint Germain', 'Jordan 1 Retro High Phantom Gym Red', 'Jordan 1 Retro High Pine Green', 'Jordan 1 Retro High Rookie of the Year', 'Jordan 1 Retro High Satin Black Toe (W)', 'Jordan 1 Retro High Satin Shattered Backboard (W)', 'Jordan 1 Retro High Season of Her Mint Foam (W)', 'Jordan 1 Retro High Shadow (2018)', 'Jordan 1 Retro High Spider-Man Origin Story', 'Jordan 1 Retro High Sports Illustrated (A Star Is Born)', 'Jordan 1 Retro High Track Red', 'Jordan 1 Retro High Travis Scott', 'Jordan 1 Retro High Turbo Green', 'Jordan 1 Retro High Twist (W)', 'Jordan 1 Retro High UNC Leather', 'Jordan 1 Retro High UNC Patent (W)', 'Jordan 1 Retro High Union Los Angeles Black Toe', 'Jordan 1 Retro High Union Los Angeles Blue Toe', 'Jordan 1 Retro High Wheat', 'Jordan 1 Retro High Yellow Ochre', 'Jordan 1 Retro High __Not for Resale__ Varsity Maize_', 'Jordan 1 Retro High __Not for Resale__ Varsity Red_', 'Jordan 1 Retro Low OG SP Travis Scott', 'Jordan 1 Retro Low Slip Chicago (W)', 'Jordan 1 Retro Reverse Shattered Backboard', 'Jordan 1 Retro Royal (2017)', 'Jordan 1 Retro Satin __Banned___', 'Jordan 1 Retro Satin __Royal___', 'Jordan 1 Retro Shattered Backboard', 'Jordan 1 Retro Top 3', 'Jordan 10 OG Sacramento Kings', 'Jordan 10 Retro Doernbecher', 'Jordan 10 Retro Drake OVO Black', 'Jordan 10 Retro Drake OVO White', 'Jordan 10 Retro Orlando', 'Jordan 10 Retro Shadow (2018)', 'Jordan 11 Retro 72-10', 'Jordan 11 Retro Cap and Gown', 'Jordan 11 Retro Concord (2011)', 'Jordan 11 Retro Concord (2018)', 'Jordan 11 Retro Concord DMP (2006)', 'Jordan 11 Retro Cool Grey (2010)', 'Jordan 11 Retro Gamma Blue', 'Jordan 11 Retro Heiress Black Stingray (GS)', 'Jordan 11 Retro Legend Blue (2014)', 'Jordan 11 Retro Low Cherry (2016)', 'Jordan 11 Retro Low Closing Ceremony', 'Jordan 11 Retro Low Concord', 'Jordan 11 Retro Low Cool Grey', 'Jordan 11 Retro Low Derek Jeter RE2PECT', 'Jordan 11 Retro Low Golf Concord', 'Jordan 11 Retro Low Golf White Metallic Gold', 'Jordan 11 Retro Low IE Space Jam', 'Jordan 11 Retro Low Infrared', 'Jordan 11 Retro Low Iridescent', 'Jordan 11 Retro Low Pink Snakeskin (W) (2019)', 'Jordan 11 Retro Low Rose Gold (W)', 'Jordan 11 Retro Low Snake Light Bone', 'Jordan 11 Retro Low Snake Navy (2019)', 'Jordan 11 Retro Low University Blue (2017)', 'Jordan 11 Retro Neutral Olive (W)', 'Jordan 11 Retro Platinum Tint', 'Jordan 11 Retro Playoffs (2012)', 'Jordan 11 Retro UNC Win Like 82', 'Jordan 11 Retro Win Like 96', 'Jordan 12 Retro Black Metallic Gold White (W)', 'Jordan 12 Retro Bordeaux', 'Jordan 12 Retro Chinese New Year (2019)', 'Jordan 12 Retro Deep Royal Blue', 'Jordan 12 Retro Fiba (2019)', 'Jordan 12 Retro Flu Game (2016)', 'Jordan 12 Retro French Blue (2016)', 'Jordan 12 Retro Gym Red', 'Jordan 12 Retro International Flight', 'Jordan 12 Retro Michigan', 'Jordan 12 Retro OVO Black', 'Jordan 12 Retro OVO White', 'Jordan 12 Retro PSNY', 'Jordan 12 Retro PSNY Bordeaux', 'Jordan 12 Retro PSNY Olive', 'Jordan 12 Retro PSNY Wheat', 'Jordan 12 Retro Winter Black', 'Jordan 13 Retro Altitude (2017)', 'Jordan 13 Retro Atmosphere Grey', 'Jordan 13 Retro Bred (2017)', 'Jordan 13 Retro Cap and Gown', 'Jordan 13 Retro Carmelo Anthony Class Of 2002 (B-Grade)', 'Jordan 13 Retro He Got Game (2018)', 'Jordan 13 Retro Lakers', 'Jordan 13 Retro Low Clot Sepia Stone', 'Jordan 13 Retro OG Chicago (2017)', 'Jordan 13 Retro Phantom (W)', 'Jordan 13 Retro Premio Bin 23', 'Jordan 13 Retro Ray Allen PE', 'Jordan 13 Retro White Hyper Royal Black', 'Jordan 14 Retro Ferrari University Gold', 'Jordan 14 Retro Rip Hamilton', 'Jordan 14 Retro Supreme Black', 'Jordan 14 Retro Supreme White', 'Jordan 2 Retro Doernbecher Peacock', 'Jordan 2 Retro Eminem (The Way I Am)', 'Jordan 2 Retro Just Don Beach', 'Jordan 2 Retro Just Don Blue', 'Jordan 23 Finale', 'Jordan 23 Titanium', 'Jordan 3 Retro Black Cement', 'Jordan 3 Retro Chlorophyll', 'Jordan 3 Retro Doernbecher (2013)', 'Jordan 3 Retro Hall of Fame', 'Jordan 3 Retro International Flight', 'Jordan 3 Retro JTH Bio Beige', 'Jordan 3 Retro Mocha (2018)', 'Jordan 3 Retro Oregon Ducks Pit Crew Black', 'Jordan 3 Retro Pure White (2018)', 'Jordan 3 Retro Quai54 (2018)', 'Jordan 3 Retro Sport Blue', 'Jordan 3 Retro Tinker Black Cement Gold', 'Jordan 3 Retro Tinker Hatfield', 'Jordan 3 Retro Tinker White University Red', 'Jordan 3 Retro True Blue (2016)', \"Jordan 3 Retro White Cement ('88 Dunk Contest 2013)\", 'Jordan 4 Retro 30th Anniversary Laser', 'Jordan 4 Retro Black Cement (2012)', 'Jordan 4 Retro Black Laser', 'Jordan 4 Retro Bred (2019)', 'Jordan 4 Retro Columbia (2015)', 'Jordan 4 Retro Cool Grey (2004)', 'Jordan 4 Retro Cool Grey (2019)', 'Jordan 4 Retro Doernbecher', 'Jordan 4 Retro Eminem Carhartt', 'Jordan 4 Retro Flight Nostalgia', 'Jordan 4 Retro Flyknit Red', 'Jordan 4 Retro Hot Punch (W)', 'Jordan 4 Retro Kaws', 'Jordan 4 Retro Kaws Black', 'Jordan 4 Retro Laser Black Gum', \"Jordan 4 Retro Levi's Black (Levi's Tag)\", \"Jordan 4 Retro Levi's White (Levi's Tag)\", 'Jordan 4 Retro Motorsports (2017)', 'Jordan 4 Retro Oregon Ducks', 'Jordan 4 Retro Pure Money (2017)', 'Jordan 4 Retro Raptors (2018)', 'Jordan 4 Retro Royalty', 'Jordan 4 Retro Silt Red Splatter (W)', 'Jordan 4 Retro Tattoo (2018)', 'Jordan 4 Retro Travis Scott Cactus Jack', 'Jordan 4 Retro White Cement (2016)', 'Jordan 4 Retro White Laser', 'Jordan 5 Retro Black Metallic (2016)', 'Jordan 5 Retro Doernbecher', 'Jordan 5 Retro Fire Red Black Tongue (2013)', 'Jordan 5 Retro Grape (2013)', 'Jordan 5 Retro Grape Fresh Prince', 'Jordan 5 Retro JSP Laney Varsity Royal', 'Jordan 5 Retro Michigan (2019)', 'Jordan 5 Retro Paris Saint-Germain', 'Jordan 5 Retro Red Suede', 'Jordan 5 Retro Satin Bred', 'Jordan 5 Retro Trophy Room Ice Blue', 'Jordan 6 Retro Aleali May (W)', 'Jordan 6 Retro Black Cat', 'Jordan 6 Retro Black Infrared (2019)', 'Jordan 6 Retro Carmine (2014)', 'Jordan 6 Retro Flight Nostalgia', 'Jordan 6 Retro Gatorade Green', 'Jordan 6 Retro Gatorade Like Mike White', 'Jordan 6 Retro Infrared Black (2014)', 'Jordan 6 Retro Maroon (2015)', 'Jordan 6 Retro Olympic London (2012)', 'Jordan 6 Retro PSG Paris Saint-Germain', 'Jordan 6 Retro Reflections of a Champion', 'Jordan 6 Retro Social Status', 'Jordan 6 Retro Tinker', 'Jordan 6 Retro UNC', 'Jordan 6 Retro White Laser Fuchsia Green Abyss (GS)', 'Jordan 6 Rings Black Varsity Red', 'Jordan 7 Retro Bordeaux (2015)', 'Jordan 7 Retro Hare (2015)', 'Jordan 7 Retro Miro', 'Jordan 7 Retro Patta Shimmer', 'Jordan 7 Retro Premio Bin 23', 'Jordan 7 Retro Ray Allen Bucks', 'Jordan 7 Retro Reflections of a Champion', 'Jordan 7 Retro Topaz Mist (GS)', 'Jordan 8 Retro Aqua (2015)', 'Jordan 8 Retro Doernbecher', 'Jordan 8 Retro OVO Black', 'Jordan 8 Retro Quai54 (2019)', 'Jordan 8 Retro Reflections of a Champion', 'Jordan 8 Retro Tinker Air Raid', 'Jordan 8 Retro White Aqua (W) (2007)', 'Jordan 9 Retro Dream It Do It', 'Jordan 9 Retro Pearl Blue', 'Jordan Future Bred Jumpman', 'Jordan Legacy 312 Olympic (GS)', 'Jordan Legacy 312 Rookie of the Year', 'Jordan Legacy 312 White Black Pink Foam (GS)', 'Jordan Spizike Black Gym Red', 'Jordan XX9 Hare', 'Jordan XXXIII Travis Scott', 'KD 12 EYBL', 'KD 4 Nerf', 'KD 4 Weatherman', 'Kobe 1 Protro 81 Pt Game', 'Kobe 1 Protro Purple Reign', 'Kobe 10 Elite HTM Shark Jaw', 'Kobe 4 Protro Carpe Diem', 'Kobe 6 Grinch', 'Kobe AD Red Orbit', 'Kyrie 2 Low Spongebob Mr Krabs', 'Kyrie 2 Low Spongebob Sandy Cheeks', 'Kyrie 4 Confetti', 'Kyrie 4 Lucky Charms', 'Kyrie 5 Bandulu', 'Kyrie 5 Black Rainbow Soles', 'Kyrie 5 Concepts Ikhet', 'Kyrie 5 EP Bandulu', 'Kyrie 5 Friends', 'Kyrie 5 Spongebob', 'Kyrie 5 Spongebob Patrick', 'Kyrie 5 Spongebob Squidward', 'Kyrie 5 Taco PE', 'LeBron 15 Lifestyle KITH Concrete', 'LeBron 15 Lifestyle KITH Stained Glass', 'LeBron 15 Performance KITH Rose Gold', 'LeBron 16 Air Trainer Medicine Ball', 'LeBron 16 Black Hot Lava', 'LeBron 16 Buzz Lightyear', 'LeBron 16 Equality Home (2019)', 'LeBron 16 Glow', 'LeBron 16 Low Air Max Trainer 2', 'LeBron 16 Low Atmos Safari', 'LeBron 16 Martin', 'LeBron 16 Oreo', 'LeBron 16 Watch the Throne', 'LeBron 16 White Hot Lava', 'LeBron 4 Graffiti NYC', 'LeBron 7 Christ the King (CTK)', 'LeBron 8 112 Pack (Clark Kent)', 'LeBron 8 South Beach (Pre-Heat)', 'LeBron 8 V', 'LeBron X Celebration Pack', 'Louis Vuitton Don Kanye Red', 'Louis Vuitton Jaspers Kanye Patchwork Grey', 'New Balance 1500 Hanon Chosen Few', 'New Balance 997.5 Phantaci', 'New Balance 999 Concepts __The Kennedy___', 'Nike Adapt BB Black Pure Platinum (US Charger)', 'Nike Adapt BB Mag (US Charger)', \"Nike Air Force 1 '07 Black\", 'Nike Blazer High sacai Snow Beach', 'Nike Blazer High sacai White Black Legend Blue', 'Nike Blazer Mid 77 Lucid Green', 'Nike Blazer Mid 77 Vintage Multi-Color', 'Nike Blazer Mid 77 Vintage Optic Yellow', 'Nike Blazer Mid 77 Vintage Sail White', 'Nike Blazer Mid 77 Vintage White Black', \"Nike Blazer Mid Off-White All Hallow's Eve\", 'Nike Blazer Mid Off-White Grim Reaper', 'Nike Blazer Mid Patchwork', 'Nike Blazer Mid Stranger Things Hawkins High School', 'Nike Blazer Mid Stranger Things Independence Day Pack', 'Nike Classic Cortez Stranger Things Hawkins High School', 'Nike Classic Cortez Stranger Things Independence Day Pack', 'Nike Cortez Los Angeles Blue', 'Nike Daybreak Undercover Black', 'Nike Daybreak Undercover Black Sail (W)', 'Nike Daybreak Undercover Blue Jay', 'Nike Daybreak Undercover Bright Citron', 'Nike Daybreak Undercover Lucky Green Red (W)', 'Nike Daybreak Undercover Obsidian (W)', 'Nike Daybreak Undercover University Red (W)', 'Nike Daybreak Vegas Gold College Orange', 'Nike Dunk SB High Diamond Supply Co. __Tiffany___', 'Nike Dunk SB Low Blue Lobster', 'Nike Dunk SB Low De La Soul (2015)', 'Nike Dunk SB Low Diamond Supply Co. __Tiffany___', 'Nike Dunk SB Low Paris', 'Nike Dunk SB Low Staple NYC Pigeon', 'Nike Dunk SB Low Stussy Cherry', 'Nike Dunk SB Low Supreme  Black Cement (2002)', 'Nike Dunk SB Low Supreme  Red Cement (2012)', 'Nike Dunk SB Low Supreme  White Cement (2002)', 'Nike Dunk SB Low What the Dunk', 'Nike Dunk SB Low Yellow Lobster', 'Nike Flyknit Lunar1+ Supreme Black', 'Nike HyperAdapt 1.0 Black (1st Release Pair Special Box)', 'Nike Hyperdunk 08 United We Rise (2016)', 'Nike Hyperdunk Marty McFly 2015', 'Nike Hyperdunk X TB Midnight Navy', 'Nike ISPA React Low Black', 'Nike ISPA React Low Summit White', 'Nike Joyride Run Flyknit White Sail', 'Nike Killshot 2 J Crew Sail Midnight Navy', 'Nike LD Waffle Sacai Blue Multi', 'Nike LD Waffle Sacai Green Multi', 'Nike MAG Back to the Future (2011)', 'Nike MAG Back to the Future (2016)', 'Nike PG 2.5 Playstation Wolf Grey', 'Nike PG 3 NASA', 'Nike PG 3 NASA 50th', 'Nike React Element 55 Black Aurora Green', 'Nike React Element 55 Black White', 'Nike React Element 55 Indigo Fog Mystic Navy', 'Nike React Element 55 Triple Black', 'Nike React Element 55 White Game Royal Habanero Red', 'Nike React Element 87 Anthracite Black', 'Nike React Element 87 Black Neptune Green', 'Nike React Element 87 Dark Grey Photo Blue', 'Nike React Element 87 Desert Sand', 'Nike React Element 87 Dusty Peach', 'Nike React Element 87 Light Orewood Brown', 'Nike React Element 87 Moss', 'Nike React Element 87 Royal Tint', 'Nike React Element 87 Sail Light Bone', 'Nike React Element 87 Volt Racer Pink', 'Nike React Presto Black White', 'Nike SB Blazer Low Parra', 'Nike SB Blazer Supreme Black (2006)', 'Nike SB Dunk High Black Sheep Hornet', 'Nike SB Dunk High Dog Walker', 'Nike SB Dunk High NBA Cavs', 'Nike SB Dunk High Pro Desert Camo', 'Nike SB Dunk Low Black Washed Coral', 'Nike SB Dunk Low Concepts Green Lobster', 'Nike SB Dunk Low Concepts Purple Lobster', 'Nike SB Dunk Low Corduroy Dusty Peach', 'Nike SB Dunk Low Diamond Supply Co Black Diamond', 'Nike SB Dunk Low Diamond Supply Co White Diamond', 'Nike SB Dunk Low Doernbecher (2018)', 'Nike SB Dunk Low Light Cream Thunderstorm', 'Nike SB Dunk Low Parra', 'Nike SB Dunk Low Premium White Game Royal', 'Nike SB Dunk Low Pro Black Pine Green', 'Nike SB Dunk Low Pro Dark Russet Cedar', 'Nike SB Dunk Low Rivals Pack (East)', 'Nike SB Dunk Low Staple Panda Pigeon', 'Nike SB Gato Supreme Black', 'Nike Shox TL Comme des Garcons Black (W)', 'Nike Shox TL Triple Black', 'Nike Tailwind 79 Stranger Things Hawkins High School', 'Nike Tailwind 79 Stranger Things Independence Day Pack', 'Nike Zoom Fly Mercurial Off-White Black', 'Nike Zoom Fly Off-White', 'Nike Zoom Fly Off-White Black Silver', 'Nike Zoom Fly Off-White Pink', 'Nike Zoom Freak 1 Antetokounbros', 'Nike Zoom Freak 1 Coming to America', 'Nike Zoom Pegasus 35 Turbo Wolf Grey Hot Punch', 'Nike Zoom Rookie Galaxy (2019)', 'Nike Zoom Terra Kiger 5 Off-White Black (W)', 'Nike Zoom Terra Kiger 5 Off-White Electric Green (W)', 'Nike Zoom Terra Kiger 5 Off-White White (W)', 'Nike Zoom Vomero 5 A Cold Wall Solarized', 'Nike Zoom Vomero 5 SP Vast Grey', 'Nike ZoomX Vaporfly Next% Volt', 'Nike ZoomX Vista Grind Volt (W)', 'NikeCraft Mars Yard Shoe 2.0 Tom Sachs Space Camp', 'Off-White Vulc Low Black (Updated Stripes)', 'Off-White Vulc Low White (Updated Stripes)', 'Puma Bow Slide Rihanna Fenty Olive (W)', 'Puma Disc Blaze Bape Camo Green', 'React Element 55 SE White', 'Reebok Instapump Fury Aape By a Bathing Ape', 'Reebok Instapump Fury CNCPTS Versace', 'Revenge X Storm Low Top Black', 'Revenge X Storm Low Top Black (with Flames)', 'Revenge X Storm Low Top Black Rag', 'Revenge X Storm Low Top Black Yellow', 'Revenge X Storm Low Top Blue', 'Revenge X Storm Low Top Green Camo', 'Revenge X Storm Low Top Red', 'Revenge X Storm Low Top Red (with Flames)', 'Revenge X Storm Low Top Teal (with Flames)', 'Rick Owens Geobasket', 'Rick Owens Ramones', 'SF Air Force 1 High Laser Orange', 'Saucony Shadow 5000 END __Burger___', 'Saucony Shadow 5000 Politics Cafe Du Monde', 'UA Curry 3Zer0 LTD Gold (Signed)', 'Vans Authentic Comme des Garcons', 'Vans Authentic Supreme Black Checker Logo', 'Vans Authentic Supreme Blue Checker Logo', 'Vans Chukka Boot LX Kaws __The Simpsons__ (2007)_', 'Vans Era 95 Fear of God', 'Vans Old Skool Black White', 'Vans Old Skool Checkerboard Racing Red', 'Vans Old Skool David Bowie Aladdin Sane', 'Vans Old Skool Flame (2017)', 'Vans Old Skool Yacht Club', 'Vans Sk8-Hi Fear of God', 'Vans Sk8-Hi Odd Future Donut', 'Vans Sk8-Hi Supreme Black Checker Logo', 'Vans Sk8-Hi Supreme Public Enemy Black White', 'Vans Style 36 Blends Bones', 'Vans Style 36 Marshmallow Racing Red', 'adidas 3D Runner Black', 'adidas Alphaedge 4D Black', 'adidas Alphaedge 4D White', 'adidas Consortium Runner 4D Mid White', 'adidas Continental 80 White Scarlet Navy', 'adidas Copa Mundial 17 Ultra Boost Kith Cobras', 'adidas D.O.N. Issue #1 Symbiote Spider Man', 'adidas Futurecraft MFG Made For Germany', 'adidas Human Race NMD Pharrell Multi-Color', 'adidas Human Race NMD Pharrell x Chanel', 'adidas Kamanda Dragon Ball Z Majin Buu', 'adidas LXCON Black Market', 'adidas NMD CS1 Parley Blue Spirit', 'adidas NMD HU Pharrell Human Race Scarlet', 'adidas NMD HU Pharrell Human Race Yellow', 'adidas NMD HU Pharrell Y.O.U. N.E.R.D_', 'adidas NMD Hu Pharrell Inspiration Pack Black', 'adidas NMD Hu Pharrell Inspiration Pack Clear Sky', 'adidas NMD Hu Pharrell Inspiration Pack Powder Blue', 'adidas NMD Hu Pharrell Inspiration Pack White', 'adidas NMD Hu Pharrell Solar Pack Mother', 'adidas NMD Hu Pharrell Solar Pack Orange', 'adidas NMD Hu Pharrell Solar Pack Red', 'adidas NMD Hu Pharrell x BBC Blue Plaid', 'adidas NMD Hu Pharrell x Billionaire Boys Club Multi-Color', 'adidas NMD R1 Bape Black Camo', 'adidas NMD R1 Bape Olive Camo', 'adidas NMD R1 Black Gum (2018)', 'adidas NMD R1 Core Black Lush Red', 'adidas NMD R1 Duck Camo Core Black', 'adidas NMD R1 Duck Camo Sesame', 'adidas NMD R1 Friends and Family Pitch Black', 'adidas NMD R1 Japan Black (2019)', 'adidas NMD R1 Japan Triple Black', 'adidas NMD R1 Japan Triple White', 'adidas NMD R1 Marble Aero Green', 'adidas NMD R1 NYC Red Apple', 'adidas NMD R1 Neighborhood x Invincible', 'adidas NMD R1 Nice Kicks', 'adidas NMD R1 Pharrell HU Friends and Family Burgundy', 'adidas NMD R1 Pharrell HU Hue Man Tangerine', 'adidas NMD R1 Primeknit Friends and Family', 'adidas NMD R1 STLT Grey Black', 'adidas NMD R1 STLT Parley Core Black', 'adidas NMD R1 STLT Triple Black', 'adidas NMD R1 White Gum (2018)', 'adidas NMD TS1 Gore-Tex Triple Black', 'adidas NMD XR1 OG Black', 'adidas Nemeziz Tango 17 Ultra Boost Triple Black', 'adidas Nite Jogger Grey Two Solar Orange', 'adidas Ozweego Raf Simons Clear Pink Silver Metallic', 'adidas Pharrell NMD HU China Pack Peace (Blue)', 'adidas Solar Hu Pharrell Chinese New Year (2019)', 'adidas Solar Hu Pharrell Greyscale Pack Black', 'adidas Solar Hu Pharrell Greyscale Pack Grey', 'adidas Solar Hu Pharrell Greyscale Pack Off White', 'adidas Solar Hu Pharrell Greyscale Pack White', 'adidas Stan Smith White Green (OG)', 'adidas Tennis HU Pharrell Multi-Color', 'adidas Ultra Boost 1.0 Cream White', 'adidas Ultra Boost 1.0 Multi-Color Toe Navy', 'adidas Ultra Boost 1.0 Multi-Color Toe White', 'adidas Ultra Boost 1.0 SNS Tee Time', 'adidas Ultra Boost 1.0 SNS X Social Status', 'adidas Ultra Boost 1.0 Triple Black', 'adidas Ultra Boost 1.0 Undefeated Stars and Stripes', 'adidas Ultra Boost 1.0 Wood Wood Black', 'adidas Ultra Boost 19 Black Glow', 'adidas Ultra Boost 2 City Stars and Stripes', 'adidas Ultra Boost 2 City White', 'adidas Ultra Boost 2.0 Antique Brass', 'adidas Ultra Boost 2.0 Black Reflective', 'adidas Ultra Boost 2.0 Gold Medal (2016', 'adidas Ultra Boost 2.0 Silver Medal (2018)', 'adidas Ultra Boost 2.0 White Reflective', 'adidas Ultra Boost 2019 Clear Brown Chalk White', 'adidas Ultra Boost 2019 Footwear White', 'adidas Ultra Boost 2019 Oreo', 'adidas Ultra Boost 2019 Panda', 'adidas Ultra Boost 2019 Triple Black', 'adidas Ultra Boost 4 Clear Brown Legend Ink', 'adidas Ultra Boost 4 Grey', 'adidas Ultra Boost 4 Show Your Stripes Black', 'adidas Ultra Boost 4.0 Bape Camo', 'adidas Ultra Boost 4.0 Bape Camo Black', 'adidas Ultra Boost 4.0 Black White Speckle', 'adidas Ultra Boost 4.0 Breast Cancer Awareness', 'adidas Ultra Boost 4.0 Chinese New Year (2018)', 'adidas Ultra Boost 4.0 Chinese New Year (2019)', 'adidas Ultra Boost 4.0 Cloud White Active Red', 'adidas Ultra Boost 4.0 Cloud White Maroon', 'adidas Ultra Boost 4.0 Core Black', 'adidas Ultra Boost 4.0 Game of Thrones House Lannister (W)', 'adidas Ultra Boost 4.0 Game of Thrones House Stark', 'adidas Ultra Boost 4.0 Game of Thrones House Targaryen White (W)', 'adidas Ultra Boost 4.0 Game of Thrones Nights Watch', 'adidas Ultra Boost 4.0 Game of Thrones Targaryen Dragons', 'adidas Ultra Boost 4.0 Game of Thrones White Walkers', 'adidas Ultra Boost 4.0 Grey Three', 'adidas Ultra Boost 4.0 Miami Hurricanes', 'adidas Ultra Boost 4.0 Non Dye Cloud White', 'adidas Ultra Boost 4.0 Orca', 'adidas Ultra Boost 4.0 Orchid Tint', 'adidas Ultra Boost 4.0 Parley Core Black Cloud White', 'adidas Ultra Boost 4.0 Running White', 'adidas Ultra Boost 4.0 Show Your Stripes Cloud White', 'adidas Ultra Boost 4.0 Triple Black', 'adidas Ultra Boost 4.0 Triple Black Gold (W)', 'adidas Ultra Boost 4.0 Triple White (W)', 'adidas Ultra Boost 4.0 White Multi-Color', 'adidas Ultra Boost Clima Black', 'adidas Ultra Boost Clima Missoni Multi-Color', 'adidas Ultra Boost Core Black Active Purple Shock Red', 'adidas Ultra Boost Legend Ivy', 'adidas Ultra Boost Lux Sneakersnstuff x Social Status Vintage White', 'adidas Ultra Boost Manchester United', 'adidas Ultra Boost Mid Kith x Nonnative', 'adidas Ultra Boost Mid Ronnie Fieg', 'adidas Ultra Boost Mid Run Thru Time', 'adidas Ultra Boost OG (2018)', 'adidas Ultra Boost Tech Ink Glow Blue', 'adidas Ultra Boost Uncaged Hypebeast', 'adidas Ultra Boost Undefeated Blackout', 'adidas Y-3 Pureboost White Black', 'adidas Yeezy 500 Blush', 'adidas Yeezy 500 Salt', 'adidas Yeezy 500 Super Moon Yellow', 'adidas Yeezy 500 Utility Black', 'adidas Yeezy 700 Mauve', 'adidas Yeezy 700 V2 Static', 'adidas Yeezy Boost 350 Moonrock', 'adidas Yeezy Boost 350 Turtledove', 'adidas Yeezy Boost 350 V2 Antlia', 'adidas Yeezy Boost 350 V2 Beluga', 'adidas Yeezy Boost 350 V2 Beluga 2.0', 'adidas Yeezy Boost 350 V2 Black', 'adidas Yeezy Boost 350 V2 Black Red', 'adidas Yeezy Boost 350 V2 Blue Tint', 'adidas Yeezy Boost 350 V2 Butter', 'adidas Yeezy Boost 350 V2 Clay', 'adidas Yeezy Boost 350 V2 Core Black Copper', 'adidas Yeezy Boost 350 V2 Core Black Red', 'adidas Yeezy Boost 350 V2 Core Black White', 'adidas Yeezy Boost 350 V2 Cream', 'adidas Yeezy Boost 350 V2 Glow', 'adidas Yeezy Boost 350 V2 Hyperspace', 'adidas Yeezy Boost 350 V2 Lundmark', 'adidas Yeezy Boost 350 V2 Semi Frozen Yellow', 'adidas Yeezy Boost 350 V2 Sesame', 'adidas Yeezy Boost 350 V2 Static', 'adidas Yeezy Boost 350 V2 Static Black', 'adidas Yeezy Boost 350 V2 Synth', 'adidas Yeezy Boost 350 V2 Trfrm', 'adidas Yeezy Boost 350 V2 Zebra', 'adidas Yeezy Boost 700 Analog', 'adidas Yeezy Boost 700 Inertia', 'adidas Yeezy Boost 700 Salt', 'adidas Yeezy Boost 700 Utility Black', 'adidas Yeezy Boost 700 V2 Geode', 'adidas Yeezy Boost 700 V2 Tephra', 'adidas Yeezy Boost 700 V2 Vanta', 'adidas Yeezy Boost 700 Wave Runner Solid Grey', 'adidas Yeezy Boost 750 Light Brown Gum (Chocolate)', 'adidas Yeezy Boost 750 Light Grey Glow In the Dark', 'adidas Yeezy Boost 750 OG Light Brown', 'adidas Yeezy Powerphase Calabasas Core Black', 'adidas Yeezy Powerphase Calabasas Core White', 'adidas Yeezy Powerphase Calabasas Grey', 'adidas Yung-1 Cloud White', 'adidas Yung-1 Dragon Ball Z Frieza', 'adidas Yung-1 Hi-Res Orange', 'adidas ZX 4000 4D Grey Three Hi Res Yellow', 'adidas ZX 5000 UNDFTD x Bape __Camo___', 'adidas ZX Flux Clot RWB']\n"
     ]
    }
   ],
   "source": [
    "class_names = train_ds.class_names\n",
    "print(class_names)"
   ]
  },
  {
   "cell_type": "code",
   "execution_count": null,
   "id": "106a97ea",
   "metadata": {},
   "outputs": [],
   "source": [
    "import matplotlib.pyplot as plt\n",
    "\n",
    "plt.figure(figsize=(10, 10))\n",
    "for images, labels in train_ds.take(1):\n",
    "  for i in range(9):\n",
    "    ax = plt.subplot(3, 3, i + 1)\n",
    "    plt.imshow(images[i].numpy().astype(\"uint8\"))\n",
    "    plt.title(class_names[labels[i]])\n",
    "    plt.axis(\"off\")"
   ]
  },
  {
   "cell_type": "code",
   "execution_count": null,
   "id": "848127c7",
   "metadata": {},
   "outputs": [],
   "source": [
    "for image_batch, labels_batch in train_ds:\n",
    "  print(image_batch.shape)\n",
    "  print(labels_batch.shape)\n",
    "  break"
   ]
  },
  {
   "cell_type": "code",
   "execution_count": null,
   "id": "992caa76",
   "metadata": {},
   "outputs": [],
   "source": [
    "AUTOTUNE = tf.data.AUTOTUNE\n",
    "\n",
    "train_ds = train_ds.cache().shuffle(1000).prefetch(buffer_size=AUTOTUNE)\n",
    "val_ds = val_ds.cache().prefetch(buffer_size=AUTOTUNE)"
   ]
  },
  {
   "cell_type": "code",
   "execution_count": null,
   "id": "b63d11ba",
   "metadata": {},
   "outputs": [],
   "source": [
    "normalization_layer = layers.Rescaling(1./255)"
   ]
  },
  {
   "cell_type": "code",
   "execution_count": null,
   "id": "534aab57",
   "metadata": {},
   "outputs": [],
   "source": [
    "normalized_ds = train_ds.map(lambda x, y: (normalization_layer(x), y))\n",
    "image_batch, labels_batch = next(iter(normalized_ds))\n",
    "first_image = image_batch[0]\n",
    "# Notice the pixel values are now in `[0,1]`.\n",
    "print(np.min(first_image), np.max(first_image)) "
   ]
  },
  {
   "cell_type": "code",
   "execution_count": null,
   "id": "d3896040",
   "metadata": {},
   "outputs": [],
   "source": [
    "num_classes = len(class_names)\n",
    "\n",
    "model = Sequential([\n",
    "  layers.Rescaling(1./255, input_shape=(img_height, img_width, 3)),\n",
    "  layers.Conv2D(16, 3, padding='same', activation='relu'),\n",
    "  layers.MaxPooling2D(),\n",
    "  layers.Conv2D(32, 3, padding='same', activation='relu'),\n",
    "  layers.MaxPooling2D(),\n",
    "  layers.Conv2D(64, 3, padding='same', activation='relu'),\n",
    "  layers.MaxPooling2D(),\n",
    "  layers.Flatten(),\n",
    "  layers.Dense(128, activation='relu'),\n",
    "  layers.Dense(num_classes)\n",
    "])"
   ]
  },
  {
   "cell_type": "code",
   "execution_count": null,
   "id": "e5f76412",
   "metadata": {},
   "outputs": [],
   "source": [
    "model.compile(optimizer='adam',\n",
    "              loss=tf.keras.losses.SparseCategoricalCrossentropy(from_logits=True),\n",
    "              metrics=['accuracy'])\n",
    "model.summary()"
   ]
  },
  {
   "cell_type": "code",
   "execution_count": null,
   "id": "16cb1912",
   "metadata": {},
   "outputs": [],
   "source": [
    "epochs=10\n",
    "history = model.fit(\n",
    "  train_ds,\n",
    "  validation_data=val_ds,\n",
    "  epochs=epochs\n",
    ")"
   ]
  },
  {
   "cell_type": "code",
   "execution_count": null,
   "id": "3f42f127",
   "metadata": {},
   "outputs": [],
   "source": [
    "acc = history.history['accuracy']\n",
    "val_acc = history.history['val_accuracy']\n",
    "\n",
    "loss = history.history['loss']\n",
    "val_loss = history.history['val_loss']\n",
    "\n",
    "epochs_range = range(epochs)\n",
    "\n",
    "plt.figure(figsize=(8, 8))\n",
    "plt.subplot(1, 2, 1)\n",
    "plt.plot(epochs_range, acc, label='Training Accuracy')\n",
    "plt.plot(epochs_range, val_acc, label='Validation Accuracy')\n",
    "plt.legend(loc='lower right')\n",
    "plt.title('Training and Validation Accuracy')\n",
    "\n",
    "plt.subplot(1, 2, 2)\n",
    "plt.plot(epochs_range, loss, label='Training Loss')\n",
    "plt.plot(epochs_range, val_loss, label='Validation Loss')\n",
    "plt.legend(loc='upper right')\n",
    "plt.title('Training and Validation Loss')\n",
    "plt.show()"
   ]
  },
  {
   "cell_type": "code",
   "execution_count": null,
   "id": "00b7ac74",
   "metadata": {},
   "outputs": [],
   "source": [
    "data_augmentation = keras.Sequential(\n",
    "  [\n",
    "    layers.RandomFlip(\"horizontal\",\n",
    "                      input_shape=(img_height,\n",
    "                                  img_width,\n",
    "                                  3)),\n",
    "    layers.RandomRotation(0.1),\n",
    "    layers.RandomZoom(0.1),\n",
    "  ]\n",
    ")"
   ]
  },
  {
   "cell_type": "code",
   "execution_count": null,
   "id": "d1ac4552",
   "metadata": {},
   "outputs": [],
   "source": [
    "plt.figure(figsize=(10, 10))\n",
    "for images, _ in train_ds.take(1):\n",
    "  for i in range(9):\n",
    "    augmented_images = data_augmentation(images)\n",
    "    ax = plt.subplot(3, 3, i + 1)\n",
    "    plt.imshow(augmented_images[0].numpy().astype(\"uint8\"))\n",
    "    plt.axis(\"off\")"
   ]
  },
  {
   "cell_type": "code",
   "execution_count": 10,
   "id": "e84503dc",
   "metadata": {},
   "outputs": [],
   "source": [
    "num_classes = len(class_names)\n",
    "model = Sequential([\n",
    "  #data_augmentation,\n",
    "  #layers.Rescaling(1./255),\n",
    "  layers.Conv2D(16, 3, padding='same', activation='relu'),\n",
    "  layers.MaxPooling2D(),\n",
    "  layers.Conv2D(32, 3, padding='same', activation='relu'),\n",
    "  layers.MaxPooling2D(),\n",
    "  layers.Conv2D(64, 3, padding='same', activation='relu'),\n",
    "  layers.MaxPooling2D(),\n",
    "  layers.Dropout(0.2),\n",
    "  layers.Flatten(),\n",
    "  layers.Dense(128, activation='relu'),\n",
    "  layers.Dense(num_classes)\n",
    "])"
   ]
  },
  {
   "cell_type": "code",
   "execution_count": 11,
   "id": "28c6b264",
   "metadata": {},
   "outputs": [],
   "source": [
    "model.compile(optimizer='adam',\n",
    "              loss=tf.keras.losses.SparseCategoricalCrossentropy(from_logits=True),\n",
    "              metrics=['accuracy'])\n",
    "#model.summary()"
   ]
  },
  {
   "cell_type": "code",
   "execution_count": 12,
   "id": "e5deccae",
   "metadata": {},
   "outputs": [
    {
     "name": "stdout",
     "output_type": "stream",
     "text": [
      "Epoch 1/15\n",
      "1306/1306 [==============================] - 1273s 973ms/step - loss: 6.8799 - accuracy: 0.0091 - val_loss: 6.1525 - val_accuracy: 0.0136\n",
      "Epoch 2/15\n",
      "1306/1306 [==============================] - 1266s 968ms/step - loss: 5.8844 - accuracy: 0.0226 - val_loss: 5.8682 - val_accuracy: 0.0224\n",
      "Epoch 3/15\n",
      "1306/1306 [==============================] - 1273s 974ms/step - loss: 5.3069 - accuracy: 0.0534 - val_loss: 5.7008 - val_accuracy: 0.0327\n",
      "Epoch 4/15\n",
      "1306/1306 [==============================] - 1265s 968ms/step - loss: 4.7026 - accuracy: 0.1087 - val_loss: 5.8505 - val_accuracy: 0.0444\n",
      "Epoch 5/15\n",
      "1306/1306 [==============================] - 1284s 982ms/step - loss: 4.0515 - accuracy: 0.1890 - val_loss: 6.2583 - val_accuracy: 0.0440\n",
      "Epoch 6/15\n",
      "1306/1306 [==============================] - 1265s 968ms/step - loss: 3.4388 - accuracy: 0.2825 - val_loss: 6.4623 - val_accuracy: 0.0537\n",
      "Epoch 7/15\n",
      "1306/1306 [==============================] - 1262s 965ms/step - loss: 2.9051 - accuracy: 0.3705 - val_loss: 7.0219 - val_accuracy: 0.0514\n",
      "Epoch 8/15\n",
      "1306/1306 [==============================] - 1269s 971ms/step - loss: 2.4944 - accuracy: 0.4417 - val_loss: 7.6997 - val_accuracy: 0.0535\n",
      "Epoch 9/15\n",
      "1306/1306 [==============================] - 1266s 969ms/step - loss: 2.1908 - accuracy: 0.5009 - val_loss: 7.9877 - val_accuracy: 0.0506\n",
      "Epoch 10/15\n",
      "1306/1306 [==============================] - 1267s 969ms/step - loss: 1.9334 - accuracy: 0.5549 - val_loss: 8.9309 - val_accuracy: 0.0544\n",
      "Epoch 11/15\n",
      "1306/1306 [==============================] - 1268s 970ms/step - loss: 1.7612 - accuracy: 0.5865 - val_loss: 9.5299 - val_accuracy: 0.0530\n",
      "Epoch 12/15\n",
      "1306/1306 [==============================] - 1266s 968ms/step - loss: 1.5746 - accuracy: 0.6279 - val_loss: 10.5521 - val_accuracy: 0.0529\n",
      "Epoch 13/15\n",
      "1306/1306 [==============================] - 1267s 969ms/step - loss: 1.4417 - accuracy: 0.6575 - val_loss: 11.9810 - val_accuracy: 0.0547\n",
      "Epoch 14/15\n",
      "1306/1306 [==============================] - 1273s 974ms/step - loss: 1.3529 - accuracy: 0.6787 - val_loss: 11.1981 - val_accuracy: 0.0533\n",
      "Epoch 15/15\n",
      "1306/1306 [==============================] - 1272s 973ms/step - loss: 1.2611 - accuracy: 0.6992 - val_loss: 11.8418 - val_accuracy: 0.0566\n"
     ]
    },
    {
     "name": "stderr",
     "output_type": "stream",
     "text": [
      "WARNING:absl:Found untraced functions such as _jit_compiled_convolution_op, _jit_compiled_convolution_op, _jit_compiled_convolution_op while saving (showing 3 of 3). These functions will not be directly callable after loading.\n"
     ]
    },
    {
     "name": "stdout",
     "output_type": "stream",
     "text": [
      "INFO:tensorflow:Assets written to: full_no_rescale.model\\assets\n"
     ]
    },
    {
     "name": "stderr",
     "output_type": "stream",
     "text": [
      "INFO:tensorflow:Assets written to: full_no_rescale.model\\assets\n"
     ]
    }
   ],
   "source": [
    "epochs = 15\n",
    "history = model.fit(\n",
    "  train_ds,\n",
    "  validation_data=val_ds,\n",
    "  epochs=epochs\n",
    ")\n",
    "model.save('full_no_rescale.model')"
   ]
  },
  {
   "cell_type": "code",
   "execution_count": 13,
   "id": "4d14761c",
   "metadata": {},
   "outputs": [
    {
     "data": {
      "image/png": "[encoded data removed]",
      "text/plain": [
       "<Figure size 576x576 with 2 Axes>"
      ]
     },
     "metadata": {
      "needs_background": "light"
     },
     "output_type": "display_data"
    }
   ],
   "source": [
    "acc = history.history['accuracy']\n",
    "val_acc = history.history['val_accuracy']\n",
    "\n",
    "loss = history.history['loss']\n",
    "val_loss = history.history['val_loss']\n",
    "\n",
    "epochs_range = range(epochs)\n",
    "\n",
    "plt.figure(figsize=(8, 8))\n",
    "plt.subplot(1, 2, 1)\n",
    "plt.plot(epochs_range, acc, label='Training Accuracy')\n",
    "plt.plot(epochs_range, val_acc, label='Validation Accuracy')\n",
    "plt.legend(loc='lower right')\n",
    "plt.title('Training and Validation Accuracy')\n",
    "\n",
    "plt.subplot(1, 2, 2)\n",
    "plt.plot(epochs_range, loss, label='Training Loss')\n",
    "plt.plot(epochs_range, val_loss, label='Validation Loss')\n",
    "plt.legend(loc='upper right')\n",
    "plt.title('Training and Validation Loss')\n",
    "plt.show()"
   ]
  },
  {
   "cell_type": "code",
   "execution_count": null,
   "id": "c5e03485",
   "metadata": {},
   "outputs": [],
   "source": [
    "test_dir = pathlib.Path(\"C:/Users/Ru/Desktop/Aruviyn/Year 3 Sem 2/FYP_System/sneaker_dataset/images/test/j8r.jpg\")\n",
    "\n",
    "img = tf.keras.utils.load_img(test_dir, target_size=(img_height, img_width))\n",
    "img_array = tf.keras.utils.img_to_array(img)\n",
    "img_array = tf.expand_dims(img_array, 0) # Create a batch\n",
    "\n",
    "model = tf.keras.models.load_model('full_no_rescale.model')\n",
    "predictions = model.predict(img_array)\n",
    "score = tf.nn.softmax(predictions[0])\n",
    "\n",
    "print(\n",
    "    \"This image most likely belongs to {} with a {:.2f} percent confidence.\"\n",
    "    .format(class_names[np.argmax(score)], 100 * np.max(score))\n",
    ")\n"
   ]
  },
  {
   "cell_type": "code",
   "execution_count": 15,
   "id": "2732f252",
   "metadata": {},
   "outputs": [],
   "source": [
    "#Saving the model from TensorFlow to TensorFlowjs\n",
    "import tensorflowjs as tfjs\n",
    "model = tf.keras.models.load_model('full_no_rescale.model')\n",
    "tfjs.converters.save_keras_model(model,\"tfjs-full-no-rescale-model\")"
   ]
  },
  {
   "cell_type": "code",
   "execution_count": null,
   "id": "9bfb0f65",
   "metadata": {},
   "outputs": [],
   "source": [
    "#To run loaded model, run the this section first!\n",
    "data_dir = pathlib.Path(\"C:/Users/aruvi/Desktop/Aruviyn/FYPCodes/Sneaker_Classification/sneaker_dataset/original\")\n",
    "\n",
    "batch_size = 32\n",
    "img_height = 180\n",
    "img_width = 180\n",
    "\n",
    "train_ds = tf.keras.utils.image_dataset_from_directory(\n",
    "  data_dir,\n",
    "  validation_split=0.2,\n",
    "  subset=\"training\",\n",
    "  seed=123,\n",
    "  image_size=(img_height, img_width),\n",
    "  batch_size=batch_size)\n",
    "\n",
    "class_names = train_ds.class_names"
   ]
  }
 ],
 "metadata": {
  "kernelspec": {
   "display_name": "Python 3 (ipykernel)",
   "language": "python",
   "name": "python3"
  },
  "language_info": {
   "codemirror_mode": {
    "name": "ipython",
    "version": 3
   },
   "file_extension": ".py",
   "mimetype": "text/x-python",
   "name": "python",
   "nbconvert_exporter": "python",
   "pygments_lexer": "ipython3",
   "version": "3.9.12"
  }
 },
 "nbformat": 4,
 "nbformat_minor": 5
}
